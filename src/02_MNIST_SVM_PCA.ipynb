{
 "cells": [
  {
   "cell_type": "markdown",
   "metadata": {},
   "source": [
    "# MNIST-SVM-PCA\n",
    "\n",
    "The following script executes a program for digit recognition on the mnist database using Support Vector Machines (SVM) and Principal Component Analysis (PCA). "
   ]
  },
  {
   "cell_type": "code",
   "execution_count": 1,
   "metadata": {},
   "outputs": [],
   "source": [
    "### Packages\n",
    "from datetime import datetime\n",
    "import time\n",
    "import os\n",
    "\n",
    "import matplotlib.pyplot as plt\n",
    "%matplotlib inline\n",
    "\n",
    "from keras.datasets import mnist\n",
    "\n",
    "from sklearn.svm import SVC\n",
    "from sklearn.decomposition import PCA\n",
    "from sklearn.model_selection import GridSearchCV\n",
    "from sklearn.metrics import classification_report\n",
    "\n",
    "import config\n",
    "\n",
    "### Configurations\n",
    "# Training-Size\n",
    "num_train = config.num_train                   # 60000 for full data set \n",
    "num_test  = config.num_test                    # 10000 for full data set"
   ]
  },
  {
   "cell_type": "code",
   "execution_count": 2,
   "metadata": {},
   "outputs": [
    {
     "name": "stdout",
     "output_type": "stream",
     "text": [
      "Generated data will be located in  c:\\Users\\auerth\\Desktop\\Study\\MNIST_Digits_Benchmark\\src/log/svm-pca-training-log.txt c:\\Users\\auerth\\Desktop\\Study\\MNIST_Digits_Benchmark\\src/log/svm-pca-hyperparameter-tuning-log.txt\n",
      "[2022-09-13 11:25:49.872478] on (Windows-10-10.0.19044-SP0, Intel64 Family 6 Model 140 Stepping 1, GenuineIntel) using (Train: 15000, Test: 2500)\n"
     ]
    }
   ],
   "source": [
    "# Simple function to log information\n",
    "path = os.getcwd()+\"/log\"\n",
    "logDir = os.path.exists(path)\n",
    "if not logDir:\n",
    "    os.makedirs(path)\n",
    "\n",
    "training_results = path+\"/svm-pca-training-log.txt\"\n",
    "def log_training_results(*s):\n",
    "    with open(training_results, 'a') as f:\n",
    "        for arg in s:\n",
    "            print(arg, file=f)\n",
    "            print(arg)\n",
    "\n",
    "hyperparameter_search_log = path+\"/svm-pca-hyperparameter-tuning-log.txt\"\n",
    "def log_hyperparameter_search(*s):\n",
    "    with open(hyperparameter_search_log, 'a') as f:\n",
    "        for arg in s:\n",
    "            print(arg, file=f)\n",
    "            print(arg)\n",
    "\n",
    "print(\"Generated data will be located in \", training_results, hyperparameter_search_log)\n",
    "log_training_results(\"[%s] on (%s, %s) using (Train: %s, Test: %s)\" % (datetime.now(), config.os, config.cpu, config.num_train, config.num_test))\n",
    "if config.hyper_parameter_search:\n",
    "    log_hyperparameter_search(\"[%s] on (%s, %s) using (Train: %s, Test: %s)\" % (datetime.now(), config.os, config.cpu, config.num_train, config.num_test))\n"
   ]
  },
  {
   "cell_type": "code",
   "execution_count": 3,
   "metadata": {},
   "outputs": [],
   "source": [
    "# Fetch MNIST-Data from Keras repository\n",
    "(X_train, y_train), (X_test, y_test) = mnist.load_data()"
   ]
  },
  {
   "cell_type": "code",
   "execution_count": 4,
   "metadata": {},
   "outputs": [
    {
     "name": "stdout",
     "output_type": "stream",
     "text": [
      "Shape of training data:\t\t (60000, 28, 28)\n",
      "Shape of training labels:\t (60000,)\n",
      "Shape of testing data:\t\t (10000, 28, 28)\n",
      "Shape of testing labels:\t (10000,)\n"
     ]
    }
   ],
   "source": [
    "# Display (Train) (Test) datasets\n",
    "print(\"Shape of training data:\\t\\t\", X_train.shape)\n",
    "print(\"Shape of training labels:\\t\", y_train.shape)\n",
    "print(\"Shape of testing data:\\t\\t\", X_test.shape)\n",
    "print(\"Shape of testing labels:\\t\", y_test.shape)\n",
    "\n",
    "# i.e.: We have 60000 images with a size of 28x28 pixels\n"
   ]
  },
  {
   "cell_type": "code",
   "execution_count": 5,
   "metadata": {},
   "outputs": [
    {
     "data": {
      "image/png": "[encoded data removed]",
      "text/plain": [
       "<Figure size 2000x2000 with 10 Axes>"
      ]
     },
     "metadata": {},
     "output_type": "display_data"
    }
   ],
   "source": [
    "# Visualize some examples\n",
    "num_classes = 10 # 0 .. 9\n",
    "f, ax = plt.subplots(1, num_classes, figsize=(20,20))\n",
    "for i in range(0, num_classes):\n",
    "  sample = X_train[y_train == i][0]\n",
    "  ax[i].imshow(sample, cmap='gray')\n",
    "  ax[i].set_title(\"Label: {}\".format(i), fontsize=16)\n",
    "  ax[i].axis('off')"
   ]
  },
  {
   "cell_type": "markdown",
   "metadata": {},
   "source": [
    "# Prepare loaded data"
   ]
  },
  {
   "cell_type": "code",
   "execution_count": 6,
   "metadata": {},
   "outputs": [],
   "source": [
    "# Reshape the data such that we have access to every pixel of the image\n",
    "# The reason to access every pixel is that only then we can apply deep learning ideas and can assign color code to every pixel.\n",
    "\n",
    "train_data = X_train.reshape((X_train.shape[0], 28*28)).astype('float32')\n",
    "train_label = y_train.astype(\"float32\")\n",
    "\n",
    "test_data = X_test.reshape((X_test.shape[0], 28*28)).astype('float32')\n",
    "test_label = y_test.astype(\"float32\")\n",
    "\n",
    "\n"
   ]
  },
  {
   "cell_type": "code",
   "execution_count": 7,
   "metadata": {},
   "outputs": [],
   "source": [
    "# We know the RGB color code where different values produce various colors. It is also difficult to remember every color combination. \n",
    "# We already know that each pixel has its unique color code and also we know that it has a maximum value of 255. \n",
    "# To perform Machine Learning, it is important to convert all the values from 0 to 255 for every pixel to a range of values from 0 to 1.\n",
    "train_data = train_data / 255\n",
    "test_data = test_data / 255"
   ]
  },
  {
   "cell_type": "code",
   "execution_count": 8,
   "metadata": {},
   "outputs": [],
   "source": [
    "# As an optional step, we decrease the training and testing data size, such that the algorithms perform their execution in acceptable time\n",
    "train_data = train_data[1:num_train,]\n",
    "train_label = train_label[1:num_train]\n",
    "\n",
    "test_data = test_data[1:num_test,]\n",
    "test_label = test_label[1:num_test]"
   ]
  },
  {
   "cell_type": "code",
   "execution_count": 9,
   "metadata": {},
   "outputs": [
    {
     "name": "stdout",
     "output_type": "stream",
     "text": [
      "Reshaped training data:\t\t (14999, 784)\n",
      "Reshaped training labels:\t (14999,)\n",
      "Reshaped testing data:\t\t (2499, 784)\n",
      "Reshaped testing labels:\t (2499,)\n"
     ]
    }
   ],
   "source": [
    "# Display (Train) (Test) datasets\n",
    "\n",
    "print(\"Reshaped training data:\\t\\t\", train_data.shape)\n",
    "print(\"Reshaped training labels:\\t\", train_label.shape)\n",
    "print(\"Reshaped testing data:\\t\\t\", test_data.shape)\n",
    "print(\"Reshaped testing labels:\\t\", test_label.shape)\n",
    "\n",
    "# As we can see: We now have X images with 784 pixels in total\n",
    "# We now operate on this data"
   ]
  },
  {
   "cell_type": "markdown",
   "metadata": {},
   "source": [
    "# Principal Component Analysis\n",
    "\n",
    "Linear dimensionality reduction using Singular Value Decomposition of the data to project it to a lower dimensional space. The input data is centered but not scaled for each feature before applying the SVD.\n",
    "It uses the LAPACK implementation of the full SVD or a randomized truncated SVD by the method of Halko et al. 2009, depending on the shape of the input data and the number of components to extract.\n",
    "\n",
    "For more information, see: https://scikit-learn.org/stable/modules/generated/sklearn.decomposition.PCA.html "
   ]
  },
  {
   "cell_type": "code",
   "execution_count": 10,
   "metadata": {},
   "outputs": [],
   "source": [
    "# The default layout of PCA()\n",
    "# @see https://scikit-learn.org/stable/modules/generated/sklearn.decomposition.PCA.html\n",
    "pca = PCA(\n",
    "    n_components=None,                  # Number of components to keep. if n_components is not set all components are kept\n",
    "    copy=True,                          # If False, data passed to fit are overwritten and running fit(X).transform(X) will not yield the expected results, use fit_transform(X) instead.\n",
    "    whiten=False,                       # Whitening will remove some information from the transformed signal (the relative variance scales of the components) but can sometime improve the predictive accuracy of the downstream estimators by making their data respect some hard-wired assumptions.\n",
    "    svd_solver='auto',                  # The solver is selected by a default policy based on X.shape and n_components: if the input data is larger than 500x500 and the number of components to extract is lower than 80% of the smallest dimension of the data, then the more efficient ‘randomized’ method is enabled. Otherwise the exact full SVD is computed and optionally truncated afterwards.\n",
    "    tol=0.0,                            # Tolerance for singular values computed by svd_solver == ‘arpack’. Must be of range [0.0, infinity).\n",
    "    iterated_power='auto',              # Number of iterations for the power method computed by svd_solver == ‘randomized’. Must be of range [0, infinity).\n",
    "    n_oversamples=10,                   # This parameter is only relevant when svd_solver=\"randomized\". It corresponds to the additional number of random vectors to sample the range of X so as to ensure proper conditioning.\n",
    "    power_iteration_normalizer='auto',  # Power iteration normalizer for randomized SVD solver. Not used by ARPACK. See randomized_svd for more details.\n",
    "    random_state=None                   # Used when the ‘arpack’ or ‘randomized’ solvers are used. Pass an int for reproducible results across multiple function calls. \n",
    ")"
   ]
  },
  {
   "cell_type": "code",
   "execution_count": 11,
   "metadata": {},
   "outputs": [],
   "source": [
    "# Fitting the PCA algorithm with the datasets\n",
    "pca = PCA().fit(train_data)"
   ]
  },
  {
   "cell_type": "code",
   "execution_count": 12,
   "metadata": {},
   "outputs": [],
   "source": [
    "# Reshaping the data based on the PCA\n",
    "pca_train_data = pca.transform(train_data)\n",
    "pca_test_data = pca.transform(test_data)"
   ]
  },
  {
   "cell_type": "code",
   "execution_count": 13,
   "metadata": {},
   "outputs": [
    {
     "name": "stdout",
     "output_type": "stream",
     "text": [
      "Reshaped training data:\t\t (14999, 784)\n",
      "Reshaped training labels:\t (14999,)\n",
      "Reshaped testing data:\t\t (2499, 784)\n",
      "Reshaped testing labels:\t (2499,)\n"
     ]
    }
   ],
   "source": [
    "# Display (Train) (Test) datasets\n",
    "\n",
    "print(\"Reshaped training data:\\t\\t\", pca_train_data.shape)\n",
    "print(\"Reshaped training labels:\\t\", train_label.shape)\n",
    "print(\"Reshaped testing data:\\t\\t\", pca_test_data.shape)\n",
    "print(\"Reshaped testing labels:\\t\", test_label.shape)\n",
    "\n",
    "# As we can see: We now have X images with 784 pixels in total\n",
    "# We now operate on this data"
   ]
  },
  {
   "cell_type": "code",
   "execution_count": 14,
   "metadata": {},
   "outputs": [
    {
     "data": {
      "image/png": "[encoded data removed]",
      "text/plain": [
       "<Figure size 640x480 with 2 Axes>"
      ]
     },
     "metadata": {},
     "output_type": "display_data"
    }
   ],
   "source": [
    "fig, axes = plt.subplots(1,2)\n",
    "axes[0].scatter(train_data[:,0], train_data[:,1], c=train_label)\n",
    "axes[0].set_xlabel('x1')\n",
    "axes[0].set_ylabel('x2')\n",
    "axes[0].set_title('Before PCA')\n",
    "\n",
    "axes[1].scatter(pca_train_data[:,0], pca_train_data[:,1], c=train_label)\n",
    "axes[1].set_xlabel('PC1')\n",
    "axes[1].set_ylabel('PC2')\n",
    "axes[1].set_title('After PCA')\n",
    "\n",
    "plt.show()"
   ]
  },
  {
   "cell_type": "code",
   "execution_count": 15,
   "metadata": {},
   "outputs": [
    {
     "name": "stdout",
     "output_type": "stream",
     "text": [
      "[1.00639261e-01 7.16994181e-02 6.43307865e-02 5.43829799e-02\n",
      " 4.74458784e-02 4.38812971e-02 3.28165777e-02 2.93203071e-02\n",
      " 2.84169633e-02 2.31378637e-02 2.10279450e-02 2.05555670e-02\n",
      " 1.69872902e-02 1.66534763e-02 1.59191340e-02 1.52918687e-02\n",
      " 1.28840413e-02 1.24956248e-02 1.17824608e-02 1.12236235e-02\n",
      " 1.03897527e-02 1.00716930e-02 9.47870221e-03 9.13114101e-03\n",
      " 8.62319488e-03 8.27683602e-03 8.03241041e-03 7.78844720e-03\n",
      " 7.25765619e-03 6.78205397e-03 6.49985904e-03 6.26852643e-03\n",
      " 5.95121039e-03 5.79524925e-03 5.52303717e-03 5.22818509e-03\n",
      " 4.95102815e-03 4.79990058e-03 4.75797802e-03 4.68029734e-03\n",
      " 4.50354954e-03 4.20591980e-03 4.09748871e-03 3.95421218e-03\n",
      " 3.75765911e-03 3.67698330e-03 3.54432291e-03 3.38001689e-03\n",
      " 3.30816954e-03 3.19982111e-03 3.12013924e-03 3.09744454e-03\n",
      " 2.88221147e-03 2.81799119e-03 2.80453055e-03 2.64468673e-03\n",
      " 2.59129005e-03 2.50704377e-03 2.47731572e-03 2.41997978e-03\n",
      " 2.33647297e-03 2.32443889e-03 2.24996801e-03 2.18445365e-03\n",
      " 2.07488402e-03 2.04337761e-03 1.99473370e-03 1.92507729e-03\n",
      " 1.90136279e-03 1.87353394e-03 1.81926659e-03 1.75845018e-03\n",
      " 1.70213671e-03 1.69459870e-03 1.60470360e-03 1.59487454e-03\n",
      " 1.56421505e-03 1.50085322e-03 1.42585114e-03 1.40229531e-03\n",
      " 1.37939875e-03 1.37404690e-03 1.35134452e-03 1.32761488e-03\n",
      " 1.32199388e-03 1.28009473e-03 1.27470854e-03 1.22075318e-03\n",
      " 1.19618233e-03 1.18438061e-03 1.15876610e-03 1.11604517e-03\n",
      " 1.10411004e-03 1.07774022e-03 1.06859044e-03 1.05044851e-03\n",
      " 1.01720286e-03 1.00290484e-03 9.85929626e-04 9.71104717e-04\n",
      " 9.45122505e-04 9.37823264e-04 9.19023238e-04 8.96430691e-04\n",
      " 8.81668122e-04 8.75623256e-04 8.54621932e-04 8.34092556e-04\n",
      " 8.31833866e-04 8.04776791e-04 7.87905068e-04 7.70572340e-04\n",
      " 7.66611600e-04 7.57130387e-04 7.50832434e-04 7.38355622e-04\n",
      " 7.31023028e-04 7.21433782e-04 6.95202674e-04 6.88330969e-04\n",
      " 6.86309766e-04 6.79273566e-04 6.67408691e-04 6.58758276e-04\n",
      " 6.46042579e-04 6.37412304e-04 6.31755160e-04 6.16723264e-04\n",
      " 6.10226067e-04 5.99135994e-04 5.97428356e-04 5.85902657e-04\n",
      " 5.76290651e-04 5.67314331e-04 5.58991858e-04 5.56727930e-04\n",
      " 5.46196941e-04 5.43383241e-04 5.19846217e-04 5.16812608e-04\n",
      " 5.15329419e-04 5.05146454e-04 5.02723677e-04 4.98753972e-04\n",
      " 4.87940561e-04 4.81974654e-04 4.72160114e-04 4.67874226e-04\n",
      " 4.67029458e-04 4.58761147e-04 4.56050126e-04 4.47573111e-04\n",
      " 4.46810212e-04 4.42006451e-04 4.36835398e-04 4.32833971e-04\n",
      " 4.26721148e-04 4.16687137e-04 4.14641516e-04 4.11087938e-04\n",
      " 4.04928753e-04 4.00689372e-04 3.97032272e-04 3.91331821e-04\n",
      " 3.88706976e-04 3.82366125e-04 3.79175443e-04 3.76973359e-04\n",
      " 3.70435591e-04 3.67176224e-04 3.62767838e-04 3.61116399e-04\n",
      " 3.56384611e-04 3.53765878e-04 3.50824877e-04 3.46404791e-04\n",
      " 3.43716994e-04 3.41752777e-04 3.33113392e-04 3.31398944e-04\n",
      " 3.27724440e-04 3.26005305e-04 3.24325054e-04 3.22602718e-04\n",
      " 3.16935795e-04 3.15645826e-04 3.11661890e-04 3.10108473e-04\n",
      " 3.03286884e-04 3.02438741e-04 2.99341802e-04 2.96188140e-04\n",
      " 2.95656791e-04 2.93775985e-04 2.89171992e-04 2.88881507e-04\n",
      " 2.87560601e-04 2.83458765e-04 2.80106586e-04 2.78059131e-04\n",
      " 2.74577556e-04 2.73021986e-04 2.70105927e-04 2.64472706e-04\n",
      " 2.63808732e-04 2.60431989e-04 2.58871529e-04 2.56788568e-04\n",
      " 2.56773608e-04 2.54872051e-04 2.53691163e-04 2.50705925e-04\n",
      " 2.48719996e-04 2.47185846e-04 2.46442331e-04 2.44180002e-04\n",
      " 2.40589390e-04 2.40087465e-04 2.38216089e-04 2.36790045e-04\n",
      " 2.34374485e-04 2.31351180e-04 2.29899757e-04 2.29413781e-04\n",
      " 2.27884448e-04 2.26942764e-04 2.25329422e-04 2.21973387e-04\n",
      " 2.19576599e-04 2.18688278e-04 2.17267137e-04 2.16543674e-04\n",
      " 2.14054977e-04 2.11815379e-04 2.10823389e-04 2.08781392e-04\n",
      " 2.07814388e-04 2.06631754e-04 2.04647629e-04 2.03067742e-04\n",
      " 2.01831150e-04 2.00067137e-04 1.97940506e-04 1.97180503e-04\n",
      " 1.94901819e-04 1.92633524e-04 1.91746920e-04 1.90639417e-04\n",
      " 1.90132647e-04 1.88827704e-04 1.87532612e-04 1.84682372e-04\n",
      " 1.84274570e-04 1.82768781e-04 1.81835741e-04 1.80330157e-04\n",
      " 1.79536248e-04 1.77909635e-04 1.76060901e-04 1.74942135e-04\n",
      " 1.73040637e-04 1.72563756e-04 1.71481995e-04 1.70799700e-04\n",
      " 1.69500854e-04 1.68528917e-04 1.67969629e-04 1.67686929e-04\n",
      " 1.66982703e-04 1.64974714e-04 1.64105673e-04 1.62998098e-04\n",
      " 1.60655734e-04 1.60141120e-04 1.59356117e-04 1.58111900e-04\n",
      " 1.57084025e-04 1.55968824e-04 1.54713576e-04 1.53852277e-04\n",
      " 1.53011701e-04 1.50333668e-04 1.49354804e-04 1.48734791e-04\n",
      " 1.48352483e-04 1.46594481e-04 1.44440128e-04 1.43826983e-04\n",
      " 1.43304016e-04 1.41511104e-04 1.41059092e-04 1.40619712e-04\n",
      " 1.39460128e-04 1.38515446e-04 1.38063653e-04 1.36167757e-04\n",
      " 1.35857408e-04 1.35034978e-04 1.34679271e-04 1.33602938e-04\n",
      " 1.32294794e-04 1.31325447e-04 1.29949753e-04 1.29586595e-04\n",
      " 1.28518936e-04 1.27393505e-04 1.26932180e-04 1.26522587e-04\n",
      " 1.25347971e-04 1.24127109e-04 1.23187347e-04 1.22285492e-04\n",
      " 1.21653226e-04 1.19828677e-04 1.18639597e-04 1.17966323e-04\n",
      " 1.17696312e-04 1.16873845e-04 1.16506577e-04 1.14998729e-04\n",
      " 1.14477494e-04 1.12951442e-04 1.12433801e-04 1.11467212e-04\n",
      " 1.11189860e-04 1.10576118e-04 1.09769033e-04 1.08810731e-04\n",
      " 1.08107124e-04 1.07553038e-04 1.07030181e-04 1.06671687e-04\n",
      " 1.06130814e-04 1.05529107e-04 1.04688865e-04 1.03586775e-04\n",
      " 1.02484635e-04 1.01809354e-04 9.98755131e-05 9.96402523e-05\n",
      " 9.84499420e-05 9.83685386e-05 9.80016484e-05 9.71062764e-05\n",
      " 9.60200196e-05 9.53985727e-05 9.44687999e-05 9.33959309e-05\n",
      " 9.27163637e-05 9.18107908e-05 9.08357761e-05 9.05125271e-05\n",
      " 8.99800871e-05 8.90046940e-05 8.88324430e-05 8.81213709e-05\n",
      " 8.75603291e-05 8.73495082e-05 8.69738142e-05 8.62328379e-05\n",
      " 8.54046521e-05 8.49988064e-05 8.39593995e-05 8.31489087e-05\n",
      " 8.24781018e-05 8.07523975e-05 7.99042682e-05 7.95624874e-05\n",
      " 7.89036421e-05 7.80904156e-05 7.77935347e-05 7.76312008e-05\n",
      " 7.66492303e-05 7.63632925e-05 7.58954702e-05 7.55996589e-05\n",
      " 7.47392551e-05 7.37026130e-05 7.27834267e-05 7.16589493e-05\n",
      " 7.04999329e-05 7.00861347e-05 6.95354029e-05 6.91983514e-05\n",
      " 6.82180616e-05 6.78072902e-05 6.71388188e-05 6.64703111e-05\n",
      " 6.54837786e-05 6.50698712e-05 6.42122832e-05 6.40342769e-05\n",
      " 6.33242307e-05 6.23499000e-05 6.09411545e-05 6.06190006e-05\n",
      " 5.94862504e-05 5.91429161e-05 5.86712777e-05 5.84812187e-05\n",
      " 5.78221225e-05 5.70215852e-05 5.60346925e-05 5.59028813e-05\n",
      " 5.48183925e-05 5.45932635e-05 5.41678528e-05 5.39250941e-05\n",
      " 5.33842685e-05 5.26851363e-05 5.18158813e-05 5.10644932e-05\n",
      " 5.09654601e-05 5.07069744e-05 4.96787688e-05 4.91162900e-05\n",
      " 4.85928540e-05 4.80562267e-05 4.67167811e-05 4.65096964e-05\n",
      " 4.62806602e-05 4.54725596e-05 4.50648549e-05 4.49231338e-05\n",
      " 4.41115990e-05 4.34267276e-05 4.26378465e-05 4.25547260e-05\n",
      " 4.17921292e-05 4.12391964e-05 4.06489307e-05 3.98247357e-05\n",
      " 3.94030976e-05 3.90151399e-05 3.86554457e-05 3.81067475e-05\n",
      " 3.72340110e-05 3.67822067e-05 3.62794672e-05 3.58363250e-05\n",
      " 3.51712370e-05 3.50151167e-05 3.44293621e-05 3.39979088e-05\n",
      " 3.35312034e-05 3.33670323e-05 3.27070957e-05 3.25961191e-05\n",
      " 3.18890416e-05 3.14630925e-05 3.09610114e-05 3.04039422e-05\n",
      " 2.97818187e-05 2.91326887e-05 2.84619291e-05 2.82632991e-05\n",
      " 2.79826218e-05 2.74107097e-05 2.72268953e-05 2.69172178e-05\n",
      " 2.63810507e-05 2.62355315e-05 2.60240704e-05 2.56548956e-05\n",
      " 2.50934627e-05 2.50402063e-05 2.45757583e-05 2.43686627e-05\n",
      " 2.38888151e-05 2.34834624e-05 2.31787653e-05 2.29260186e-05\n",
      " 2.24347623e-05 2.21266600e-05 2.20342881e-05 2.18175664e-05\n",
      " 2.16502449e-05 2.10698963e-05 2.10109265e-05 2.01595412e-05\n",
      " 1.99505139e-05 1.95452594e-05 1.89966577e-05 1.88571867e-05\n",
      " 1.85952649e-05 1.85072331e-05 1.80574043e-05 1.77451602e-05\n",
      " 1.74435718e-05 1.72025593e-05 1.70232270e-05 1.69519244e-05\n",
      " 1.64566754e-05 1.58195089e-05 1.56558690e-05 1.52490657e-05\n",
      " 1.51355016e-05 1.49869984e-05 1.47409710e-05 1.44971746e-05\n",
      " 1.43326815e-05 1.39492140e-05 1.37155184e-05 1.35598202e-05\n",
      " 1.33930935e-05 1.33376743e-05 1.31172055e-05 1.30379212e-05\n",
      " 1.29004738e-05 1.27953554e-05 1.25791967e-05 1.24026737e-05\n",
      " 1.23731461e-05 1.19323877e-05 1.14429286e-05 1.11515819e-05\n",
      " 1.08327304e-05 1.05440049e-05 1.04154215e-05 1.03240300e-05\n",
      " 1.01919923e-05 9.91628804e-06 9.83290010e-06 9.72023554e-06\n",
      " 9.42355291e-06 9.22535401e-06 8.99887164e-06 8.94162167e-06\n",
      " 8.87898841e-06 8.64972571e-06 8.57332907e-06 8.41075325e-06\n",
      " 8.31137459e-06 7.89339265e-06 7.75508215e-06 7.55926112e-06\n",
      " 7.52932874e-06 7.38169319e-06 7.27133784e-06 7.15579245e-06\n",
      " 7.06802712e-06 7.03330443e-06 6.95929702e-06 6.89189665e-06\n",
      " 6.59124362e-06 6.51471601e-06 6.20488026e-06 6.08670825e-06\n",
      " 5.97954750e-06 5.82630946e-06 5.68998257e-06 5.63489311e-06\n",
      " 5.29821455e-06 5.14131216e-06 4.96184703e-06 4.94137339e-06\n",
      " 4.80568679e-06 4.79107257e-06 4.68383814e-06 4.60591218e-06\n",
      " 4.51342385e-06 4.25161443e-06 4.18416494e-06 3.98919792e-06\n",
      " 3.93318896e-06 3.86733063e-06 3.74958631e-06 3.58006491e-06\n",
      " 3.47485070e-06 3.42613839e-06 3.35360096e-06 3.31854380e-06\n",
      " 3.12458928e-06 3.01257160e-06 2.90848766e-06 2.84460225e-06\n",
      " 2.71870272e-06 2.65267954e-06 2.58265868e-06 2.50997732e-06\n",
      " 2.45959563e-06 2.41062526e-06 2.31377612e-06 2.28777367e-06\n",
      " 2.26495126e-06 2.24764631e-06 2.18724563e-06 2.12910845e-06\n",
      " 2.09130508e-06 2.02178558e-06 1.98574662e-06 1.87759736e-06\n",
      " 1.83488862e-06 1.82222209e-06 1.73119020e-06 1.70582189e-06\n",
      " 1.69689656e-06 1.68430950e-06 1.63267487e-06 1.61026492e-06\n",
      " 1.57768216e-06 1.54671829e-06 1.47735818e-06 1.43068371e-06\n",
      " 1.42192198e-06 1.38391465e-06 1.34572088e-06 1.27346641e-06\n",
      " 1.25203314e-06 1.24219650e-06 1.15565183e-06 1.06951757e-06\n",
      " 1.00238867e-06 9.35006028e-07 9.31930856e-07 9.10585300e-07\n",
      " 8.67068366e-07 8.60165585e-07 8.43547241e-07 7.89040541e-07\n",
      " 6.87711236e-07 6.58445288e-07 6.14360374e-07 6.05273613e-07\n",
      " 5.67779637e-07 5.61380546e-07 5.52942026e-07 5.20475396e-07\n",
      " 5.10620225e-07 4.99702480e-07 4.61079139e-07 4.21894896e-07\n",
      " 3.98039731e-07 3.89015327e-07 3.68710289e-07 3.67206724e-07\n",
      " 3.10784543e-07 3.06791435e-07 3.04472138e-07 3.02717183e-07\n",
      " 2.93219557e-07 2.73583055e-07 2.62721954e-07 2.45917846e-07\n",
      " 2.25001557e-07 2.23388568e-07 2.12816943e-07 1.99308147e-07\n",
      " 1.70459245e-07 1.45676708e-07 1.44026870e-07 1.42561262e-07\n",
      " 1.24077516e-07 1.17465589e-07 1.15849851e-07 1.06640613e-07\n",
      " 1.05122758e-07 8.88815705e-08 7.32380059e-08 6.86917545e-08\n",
      " 6.44006661e-08 6.27286099e-08 4.93872534e-08 4.80522075e-08\n",
      " 4.63168419e-08 3.29146417e-08 2.90756272e-08 2.34905926e-08\n",
      " 1.78877908e-08 1.71652967e-08 1.12568976e-08 5.65529445e-09\n",
      " 5.42493916e-09 5.41278533e-09 2.90269542e-09 1.22745591e-09\n",
      " 1.17609156e-09 1.34533371e-10 1.04964946e-10 1.31645490e-15\n",
      " 8.62921803e-16 6.74876201e-16 6.60195902e-16 6.51327573e-16\n",
      " 3.49206432e-16 2.82311555e-16 2.73259182e-16 2.00040661e-16\n",
      " 1.74495325e-16 1.74495325e-16 1.74495325e-16 1.74495325e-16\n",
      " 1.74495325e-16 1.74495325e-16 1.74495325e-16 1.74495325e-16\n",
      " 1.74495325e-16 1.74495325e-16 1.74495325e-16 1.74495325e-16\n",
      " 1.74495325e-16 1.74495325e-16 1.74495325e-16 1.74495325e-16\n",
      " 1.74495325e-16 1.74495325e-16 1.74495325e-16 1.74495325e-16\n",
      " 1.74495325e-16 1.74495325e-16 1.74495325e-16 1.74495325e-16\n",
      " 1.74495325e-16 1.74495325e-16 1.74495325e-16 1.74495325e-16\n",
      " 1.74495325e-16 1.74495325e-16 1.74495325e-16 1.74495325e-16\n",
      " 1.74495325e-16 1.74495325e-16 1.74495325e-16 1.74495325e-16\n",
      " 1.74495325e-16 1.74495325e-16 1.74495325e-16 1.74495325e-16\n",
      " 1.74495325e-16 1.74495325e-16 1.74495325e-16 1.74495325e-16\n",
      " 1.74495325e-16 1.74495325e-16 1.74495325e-16 1.74495325e-16\n",
      " 1.74495325e-16 1.74495325e-16 1.74495325e-16 1.74495325e-16\n",
      " 1.74495325e-16 1.74495325e-16 1.74495325e-16 1.74495325e-16\n",
      " 1.74495325e-16 1.74495325e-16 1.74495325e-16 1.74495325e-16\n",
      " 1.74495325e-16 1.74495325e-16 1.74495325e-16 1.74495325e-16\n",
      " 1.74495325e-16 1.74495325e-16 1.74495325e-16 1.74495325e-16\n",
      " 1.74495325e-16 1.74495325e-16 1.74495325e-16 1.74495325e-16\n",
      " 1.74495325e-16 1.74495325e-16 1.74495325e-16 1.74495325e-16\n",
      " 1.74495325e-16 1.74495325e-16 1.74495325e-16 1.74495325e-16\n",
      " 1.74495325e-16 1.74495325e-16 1.74495325e-16 1.74495325e-16\n",
      " 1.74495325e-16 1.74495325e-16 1.74495325e-16 1.74495325e-16\n",
      " 1.74495325e-16 1.74495325e-16 1.74495325e-16 1.70160277e-16\n",
      " 1.54144273e-16 4.00165165e-17 3.73496068e-17 1.45772782e-17]\n"
     ]
    }
   ],
   "source": [
    "print(pca.explained_variance_ratio_)"
   ]
  },
  {
   "cell_type": "markdown",
   "metadata": {},
   "source": [
    "# Support Vector Machines\n",
    "\n",
    "Support vector machines (SVMs) are a set of supervised learning methods used for classification, regression and outliers detection. We use the SVM-package supplied by SKLearn.\n",
    "\n",
    "For more information, see: https://scikit-learn.org/stable/modules/svm.html"
   ]
  },
  {
   "cell_type": "code",
   "execution_count": 16,
   "metadata": {},
   "outputs": [],
   "source": [
    "# The default layout of svm.svc() \n",
    "# @see https://scikit-learn.org/stable/modules/generated/sklearn.svm.SVC.html\n",
    "svm = SVC(\n",
    "    C=1.0,                          # Regularization parameter. The strength of the regularization is inversely proportional to C. Must be strictly positive. The penalty is a squared l2 penalty.\n",
    "    kernel='linear',                # Specifies the kernel type to be used in the algorithm. \n",
    "    degree=3,                       # Degree of the polynomial kernel function (‘poly’). Ignored by all other kernels.\n",
    "    gamma='scale',                  # Kernel coefficient for ‘rbf’, ‘poly’ and ‘sigmoid’.\n",
    "    coef0=0.0,                      # Independent term in kernel function. It is only significant in ‘poly’ and ‘sigmoid’.\n",
    "    shrinking=True,                 # Whether to use the shrinking heuristic. \n",
    "    probability=False,              # Whether to enable probability estimates. \n",
    "    tol=0.001,                      # Tolerance for stopping criterion.\n",
    "    cache_size=200,                 # Specify the size of the kernel cache (in MB).\n",
    "    class_weight=None,              # Set the parameter C of class i to class_weight[i]*C for SVC. If not given, all classes are supposed to have weight one. \n",
    "    verbose=False,                  # Enable verbose output. Note that this setting takes advantage of a per-process runtime setting in libsvm that, if enabled, may not work properly in a multithreaded context.\n",
    "    max_iter=-1,                    # Hard limit on iterations within solver, or -1 for no limit.\n",
    "    decision_function_shape='ovr',  # Whether to return a one-vs-rest (‘ovr’) decision function of shape (n_samples, n_classes) as all other classifiers, or the original one-vs-one (‘ovo’) decision function of libsvm which has shape (n_samples, n_classes * (n_classes - 1) / 2).\n",
    "    break_ties=False,               # If true, decision_function_shape='ovr', and number of classes > 2, predict will break ties according to the confidence values of decision_function;\n",
    "    random_state=None               # Controls the pseudo random number generation for shuffling the data for probability estimates.\n",
    ")"
   ]
  },
  {
   "cell_type": "markdown",
   "metadata": {},
   "source": [
    "## Linear SVC"
   ]
  },
  {
   "cell_type": "code",
   "execution_count": 17,
   "metadata": {},
   "outputs": [
    {
     "name": "stdout",
     "output_type": "stream",
     "text": [
      "Trained new model: {'Kernel':'linear'} in 10.65201997756958 seconds\n",
      "\t[linear]: mean accuracy on train-data: 0.9921328088539236; execution time: 16.034738063812256s\n",
      "\t[linear]: mean accuracy on test-data: 0.8935574229691877; execution time: 2.7030491828918457s\n"
     ]
    }
   ],
   "source": [
    "# Evalute SVM.SVC with parameters on data below\n",
    "svm = SVC(kernel='linear')\n",
    "start_time = time.time()\n",
    "svm.fit(pca_train_data, train_label)\n",
    "end_time = time.time() - start_time\n",
    "log_training_results(\"Trained new model: {'Kernel':'%s'} in %s seconds\" % (svm.get_params()[\"kernel\"], end_time))\n",
    "\n",
    "start_time = time.time()\n",
    "score = svm.score(pca_train_data, train_label)\n",
    "end_time = time.time() - start_time\n",
    "log_training_results(\"\\t[%s]: mean accuracy on train-data: %s; execution time: %ss\" % (svm.get_params()[\"kernel\"], score, end_time))  \n",
    "\n",
    "start_time = time.time()\n",
    "score = svm.score(pca_test_data, test_label)\n",
    "end_time = time.time() - start_time\n",
    "log_training_results(\"\\t[%s]: mean accuracy on test-data: %s; execution time: %ss\" % (svm.get_params()[\"kernel\"], score, end_time))  "
   ]
  },
  {
   "cell_type": "code",
   "execution_count": 18,
   "metadata": {},
   "outputs": [],
   "source": [
    "# Hyperparameter search -- Takes up a long time.\n",
    "if config.hyper_parameter_search:\n",
    "    svm = SVC()\n",
    "    parameters = {\n",
    "            \"kernel\":[\"linear\"], \n",
    "            \"C\":[1,10,100],            \n",
    "            \"gamma\":[0.01,0.005,0.001,0.0005,0.0001],        \n",
    "            #\"shrinking\":[True,False],      \n",
    "            #\"probability\":[True,False], \n",
    "            #\"tol\":[0.01,0.001,0.0001],\n",
    "    }\n",
    "    scores = [\n",
    "        'accuracy',\n",
    "        #\"precision\",    # The precision is intuitively the ability of the classifier not to label as positive a sample that is negative\n",
    "        #\"recall\",       # The recall is intuitively the ability of the classifier to find all the positive samples.\n",
    "        ]\n",
    "    for score in scores:\n",
    "        log_hyperparameter_search(\"\\t--- [%s] Running Parameter-Tests [LINEAR-PCA-SVC] ---\" % datetime.now())\n",
    "        log_hyperparameter_search(\"\\tTuning parameters for criteria [%s]\" % score)\n",
    "        # FIXME: Doesn't take accuracy as score for some reason. Refer to line below for accuracy score\n",
    "        #grid = GridSearchCV(estimator=svm, param_grid=parameters, scoring=\"%s_macro\" % score, verbose=3)\n",
    "        grid = GridSearchCV(estimator=svm, param_grid=parameters, scoring='accuracy', verbose=3, n_jobs=-1)\n",
    "        grid.fit(pca_train_data, train_label)\n",
    "\n",
    "        log_hyperparameter_search(\"\\tBest parameters set found on following development set:\")\n",
    "        log_hyperparameter_search(\"\\t\\tSupport Vector: %s\" % grid.best_estimator_)\n",
    "        log_hyperparameter_search(\"\\t\\tSupport Vector Parametrization: %s\" % grid.best_params_)\n",
    "        log_hyperparameter_search(\"\\t\\tAsserted Score: %s\" % grid.best_score_)\n",
    "        log_hyperparameter_search(\"Total Score \\t\\t Configurations\")\n",
    "\n",
    "        means = grid.cv_results_[\"mean_test_score\"]\n",
    "        stds = grid.cv_results_[\"std_test_score\"]\n",
    "        params = grid.cv_results_[\"params\"]\n",
    "        for mean, std, params in zip(means, stds, params):\n",
    "            log_hyperparameter_search(\"%0.3f (+/-%0.03f)\\t%r\" % (mean, std, params))\n",
    "        print(\"Wrote classifier comparisons to file \", hyperparameter_search_log)\n",
    "\n",
    "        print(\"Detailed classification report:\")\n",
    "        print(\"The model is trained on the full development set.\")\n",
    "        print(\"The scores are computed on the full evaluation set.\")\n",
    "    \n",
    "        y_true, y_pred = test_label, grid.predict(pca_test_data)\n",
    "        log_hyperparameter_search(classification_report(y_true, y_pred))\n",
    "        print()"
   ]
  },
  {
   "cell_type": "markdown",
   "metadata": {},
   "source": [
    "## Poly SVC"
   ]
  },
  {
   "cell_type": "code",
   "execution_count": 19,
   "metadata": {},
   "outputs": [
    {
     "name": "stdout",
     "output_type": "stream",
     "text": [
      "Trained new model: {'Kernel':'poly'} in 46.28530478477478 seconds\n",
      "\t[poly]: mean accuracy on train-data: 0.9965331022068138; execution time: 30.655139684677124s\n",
      "\t[poly]: mean accuracy on test-data: 0.9555822328931572; execution time: 4.775726795196533s\n"
     ]
    }
   ],
   "source": [
    "# Evalute SVM.SVC with parameters on data below\n",
    "svm = SVC(kernel='poly')\n",
    "start_time = time.time()\n",
    "svm.fit(pca_train_data, train_label)\n",
    "end_time = time.time() - start_time\n",
    "log_training_results(\"Trained new model: {'Kernel':'%s'} in %s seconds\" % (svm.get_params()[\"kernel\"], end_time))\n",
    "\n",
    "start_time = time.time()\n",
    "score = svm.score(pca_train_data, train_label)\n",
    "end_time = time.time() - start_time\n",
    "log_training_results(\"\\t[%s]: mean accuracy on train-data: %s; execution time: %ss\" % (svm.get_params()[\"kernel\"], score, end_time))  \n",
    "\n",
    "\n",
    "start_time = time.time()\n",
    "score = svm.score(pca_test_data, test_label)\n",
    "end_time = time.time() - start_time\n",
    "log_training_results(\"\\t[%s]: mean accuracy on test-data: %s; execution time: %ss\" % (svm.get_params()[\"kernel\"], score, end_time))  \n",
    " \n"
   ]
  },
  {
   "cell_type": "code",
   "execution_count": 20,
   "metadata": {},
   "outputs": [],
   "source": [
    "# Hyperparameter search -- Takes up a long time.\n",
    "if config.hyper_parameter_search:\n",
    "    svm = SVC()\n",
    "    parameters = {\n",
    "            \"kernel\":[\"poly\"], \n",
    "            \"C\":[1,10,50,100],            \n",
    "            \"gamma\":[0.01,0.005,0.001,0.0005,0.0001],        \n",
    "            #\"coef0\":[0.0, 0.5],\n",
    "            #\"degree\":[3,5,10],                \n",
    "            #\"shrinking\":[True,False],      \n",
    "            #\"probability\":[True,False], \n",
    "            #\"tol\":[0.01,0.001,0.0001],\n",
    "    }\n",
    "    scores = [\n",
    "        \"accuracy\",\n",
    "        #\"precision\",    # The precision is intuitively the ability of the classifier not to label as positive a sample that is negative\n",
    "        #\"recall\",       # The recall is intuitively the ability of the classifier to find all the positive samples.\n",
    "        ]\n",
    "    for score in scores:\n",
    "        log_hyperparameter_search(\"--- [%s] Running Parameter-Tests [POLY-PCA-SVC] ---\" % datetime.now())\n",
    "        log_hyperparameter_search(\"\\tTuning parameters for criteria [%s]\" % score)\n",
    "        # FIXME: Doesn't take accuracy as score for some reason. Refer to line below for accuracy score\n",
    "        #grid = GridSearchCV(estimator=svm, param_grid=parameters, scoring=\"%s_macro\" % score, verbose=3)\n",
    "        grid = GridSearchCV(estimator=svm, param_grid=parameters, scoring='accuracy', verbose=3, n_jobs=-1)\n",
    "        grid.fit(pca_train_data, train_label)\n",
    "\n",
    "        log_hyperparameter_search(\"\\tBest parameters set found on following development set:\")\n",
    "        log_hyperparameter_search(\"\\t\\tSupport Vector: %s\" % grid.best_estimator_)\n",
    "        log_hyperparameter_search(\"\\t\\tSupport Vector Parametrization: %s\" % grid.best_params_)\n",
    "        log_hyperparameter_search(\"\\t\\tAsserted Score: %s\" % grid.best_score_)\n",
    "        log_hyperparameter_search(\"Total Score \\t\\t Configurations\")\n",
    "\n",
    "        means = grid.cv_results_[\"mean_test_score\"]\n",
    "        stds = grid.cv_results_[\"std_test_score\"]\n",
    "        params = grid.cv_results_[\"params\"]\n",
    "        for mean, std, params in zip(means, stds, params):\n",
    "            log_hyperparameter_search(\"%0.3f (+/-%0.03f)\\t%r\" % (mean, std, params))\n",
    "        print(\"Wrote classifier comparisons to file \", hyperparameter_search_log)\n",
    "\n",
    "        print(\"Detailed classification report:\")\n",
    "        print(\"The model is trained on the full development set.\")\n",
    "        print(\"The scores are computed on the full evaluation set.\")\n",
    "    \n",
    "        y_true, y_pred = test_label, grid.predict(pca_test_data)\n",
    "        log_hyperparameter_search(classification_report(y_true, y_pred))\n",
    "        print()"
   ]
  },
  {
   "cell_type": "markdown",
   "metadata": {},
   "source": [
    "## RBF SVC"
   ]
  },
  {
   "cell_type": "code",
   "execution_count": 21,
   "metadata": {},
   "outputs": [
    {
     "name": "stdout",
     "output_type": "stream",
     "text": [
      "Trained new model: {'Kernel':'rbf'} in 19.82260227203369 seconds\n",
      "\t[rbf]: mean accuracy on train-data: 0.9928661910794053; execution time: 64.41103315353394s\n",
      "\t[rbf]: mean accuracy on test-data: 0.9551820728291317; execution time: 8.893983602523804s\n"
     ]
    }
   ],
   "source": [
    "# Evalute SVM.SVC with parameters on data below\n",
    "svm = SVC(kernel='rbf')\n",
    "start_time = time.time()\n",
    "svm.fit(pca_train_data, train_label)\n",
    "end_time = time.time() - start_time\n",
    "log_training_results(\"Trained new model: {'Kernel':'%s'} in %s seconds\" % (svm.get_params()[\"kernel\"], end_time))\n",
    "\n",
    "start_time = time.time()\n",
    "score = svm.score(pca_train_data, train_label)\n",
    "end_time = time.time() - start_time\n",
    "log_training_results(\"\\t[%s]: mean accuracy on train-data: %s; execution time: %ss\" % (svm.get_params()[\"kernel\"], score, end_time))  \n",
    "\n",
    "\n",
    "start_time = time.time()\n",
    "score = svm.score(pca_test_data, test_label)\n",
    "end_time = time.time() - start_time\n",
    "log_training_results(\"\\t[%s]: mean accuracy on test-data: %s; execution time: %ss\" % (svm.get_params()[\"kernel\"], score, end_time))  \n",
    " \n"
   ]
  },
  {
   "cell_type": "code",
   "execution_count": 22,
   "metadata": {},
   "outputs": [],
   "source": [
    "# Hyperparameter search -- Takes up a long time.\n",
    "if config.hyper_parameter_search:\n",
    "    svm = SVC()\n",
    "    parameters = {\n",
    "            \"kernel\":[\"rbf\"], \n",
    "            \"C\":[1,10,50,100],            \n",
    "            \"gamma\":[0.01,0.005,0.001,0.0005,0.0001],        \n",
    "            #\"shrinking\":[True,False],      \n",
    "            #\"probability\":[True,False], \n",
    "            #\"tol\":[0.01,0.001,0.0001],\n",
    "    }\n",
    "    scores = [\n",
    "        \"accuracy\",\n",
    "        #\"precision\",    # The precision is intuitively the ability of the classifier not to label as positive a sample that is negative\n",
    "        #\"recall\",       # The recall is intuitively the ability of the classifier to find all the positive samples.\n",
    "        ]\n",
    "    for score in scores:\n",
    "        log_hyperparameter_search(\"--- [%s] Running Parameter-Tests [RBF-PCA-SVC] ---\" % datetime.now())\n",
    "        log_hyperparameter_search(\"\\tTuning parameters for criteria [%s]\" % score)\n",
    "        # FIXME: Doesn't take accuracy as score for some reason. Refer to line below for accuracy score\n",
    "        #grid = GridSearchCV(estimator=svm, param_grid=parameters, scoring=\"%s_macro\" % score, verbose=3)\n",
    "        grid = GridSearchCV(estimator=svm, param_grid=parameters, scoring='accuracy', verbose=3, n_jobs=-1)\n",
    "        grid.fit(pca_train_data, train_label)\n",
    "\n",
    "        log_hyperparameter_search(\"\\tBest parameters set found on following development set:\")\n",
    "        log_hyperparameter_search(\"\\t\\tSupport Vector: %s\" % grid.best_estimator_)\n",
    "        log_hyperparameter_search(\"\\t\\tSupport Vector Parametrization: %s\" % grid.best_params_)\n",
    "        log_hyperparameter_search(\"\\t\\tAsserted Score: %s\" % grid.best_score_)\n",
    "        log_hyperparameter_search(\"Total Score \\t\\t Configurations\")\n",
    "\n",
    "        means = grid.cv_results_[\"mean_test_score\"]\n",
    "        stds = grid.cv_results_[\"std_test_score\"]\n",
    "        params = grid.cv_results_[\"params\"]\n",
    "        for mean, std, params in zip(means, stds, params):\n",
    "            log_hyperparameter_search(\"%0.3f (+/-%0.03f)\\t%r\" % (mean, std, params))\n",
    "        print(\"Wrote classifier comparisons to file \", hyperparameter_search_log)\n",
    "\n",
    "        print(\"Detailed classification report:\")\n",
    "        print(\"The model is trained on the full development set.\")\n",
    "        print(\"The scores are computed on the full evaluation set.\")\n",
    "    \n",
    "        y_true, y_pred = test_label, grid.predict(pca_test_data)\n",
    "        log_hyperparameter_search(classification_report(y_true, y_pred))\n",
    "        print()"
   ]
  },
  {
   "cell_type": "markdown",
   "metadata": {},
   "source": [
    "## Sigmoid SVC"
   ]
  },
  {
   "cell_type": "code",
   "execution_count": 23,
   "metadata": {},
   "outputs": [
    {
     "name": "stdout",
     "output_type": "stream",
     "text": [
      "Trained new model: {'Kernel':'sigmoid'} in 15.417294263839722 seconds\n",
      "\t[sigmoid]: mean accuracy on train-data: 0.8842589505967065; execution time: 25.975313663482666s\n",
      "\t[sigmoid]: mean accuracy on test-data: 0.8563425370148059; execution time: 4.486221075057983s\n"
     ]
    }
   ],
   "source": [
    "# Evalute SVM.SVC with parameters on data below\n",
    "svm = SVC(kernel='sigmoid')\n",
    "start_time = time.time()\n",
    "svm.fit(pca_train_data, train_label)\n",
    "end_time = time.time() - start_time\n",
    "log_training_results(\"Trained new model: {'Kernel':'%s'} in %s seconds\" % (svm.get_params()[\"kernel\"], end_time))\n",
    "\n",
    "start_time = time.time()\n",
    "score = svm.score(pca_train_data, train_label)\n",
    "end_time = time.time() - start_time\n",
    "log_training_results(\"\\t[%s]: mean accuracy on train-data: %s; execution time: %ss\" % (svm.get_params()[\"kernel\"], score, end_time))  \n",
    "\n",
    "\n",
    "start_time = time.time()\n",
    "score = svm.score(pca_test_data, test_label)\n",
    "end_time = time.time() - start_time\n",
    "log_training_results(\"\\t[%s]: mean accuracy on test-data: %s; execution time: %ss\" % (svm.get_params()[\"kernel\"], score, end_time))  \n",
    " \n"
   ]
  },
  {
   "cell_type": "code",
   "execution_count": 24,
   "metadata": {},
   "outputs": [],
   "source": [
    "# Hyperparameter search -- Takes up a long time.\n",
    "if config.hyper_parameter_search:\n",
    "    svm = SVC()\n",
    "    parameters = {\n",
    "            \"kernel\":[\"sigmoid\"], \n",
    "            \"C\":[1,10,50,100],            \n",
    "            \"gamma\":[0.01,0.005,0.001,0.0005,0.0001],        \n",
    "            #\"shrinking\":[True,False],      \n",
    "            #\"probability\":[True,False], \n",
    "            #\"tol\":[0.01,0.001,0.0001],\n",
    "    }\n",
    "    scores = [\n",
    "        \"accuracy\",\n",
    "        #\"precision\",    # The precision is intuitively the ability of the classifier not to label as positive a sample that is negative\n",
    "        #\"recall\",       # The recall is intuitively the ability of the classifier to find all the positive samples.\n",
    "        ]\n",
    "    for score in scores:\n",
    "        log_hyperparameter_search(\"--- [%s] Running Parameter-Tests [SIGMOID-PCA-SVC] ---\" % datetime.now())\n",
    "        log_hyperparameter_search(\"\\tTuning parameters for criteria [%s]\" % score)\n",
    "        # FIXME: Doesn't take accuracy as score for some reason. Refer to line below for accuracy score\n",
    "        #grid = GridSearchCV(estimator=svm, param_grid=parameters, scoring=\"%s_macro\" % score, verbose=3)\n",
    "        grid = GridSearchCV(estimator=svm, param_grid=parameters, scoring='accuracy', verbose=3, n_jobs=-1)\n",
    "        grid.fit(pca_train_data, train_label)\n",
    "\n",
    "        log_hyperparameter_search(\"\\tBest parameters set found on following development set:\")\n",
    "        log_hyperparameter_search(\"\\t\\tSupport Vector: %s\" % grid.best_estimator_)\n",
    "        log_hyperparameter_search(\"\\t\\tSupport Vector Parametrization: %s\" % grid.best_params_)\n",
    "        log_hyperparameter_search(\"\\t\\tAsserted Score: %s\" % grid.best_score_)\n",
    "        log_hyperparameter_search(\"Total Score \\t\\t Configurations\")\n",
    "\n",
    "        means = grid.cv_results_[\"mean_test_score\"]\n",
    "        stds = grid.cv_results_[\"std_test_score\"]\n",
    "        params = grid.cv_results_[\"params\"]\n",
    "        for mean, std, params in zip(means, stds, params):\n",
    "            log_hyperparameter_search(\"%0.3f (+/-%0.03f)\\t%r\" % (mean, std, params))\n",
    "        print(\"Wrote classifier comparisons to file \", hyperparameter_search_log)\n",
    "\n",
    "        print(\"Detailed classification report:\")\n",
    "        print(\"The model is trained on the full development set.\")\n",
    "        print(\"The scores are computed on the full evaluation set.\")\n",
    "    \n",
    "        y_true, y_pred = test_label, grid.predict(pca_test_data)\n",
    "        log_hyperparameter_search(classification_report(y_true, y_pred))\n",
    "        print()"
   ]
  },
  {
   "cell_type": "markdown",
   "metadata": {},
   "source": []
  }
 ],
 "metadata": {
  "kernelspec": {
   "display_name": "Python 3.10.7 64-bit (microsoft store)",
   "language": "python",
   "name": "python3"
  },
  "language_info": {
   "codemirror_mode": {
    "name": "ipython",
    "version": 3
   },
   "file_extension": ".py",
   "mimetype": "text/x-python",
   "name": "python",
   "nbconvert_exporter": "python",
   "pygments_lexer": "ipython3",
   "version": "3.10.7"
  },
  "orig_nbformat": 4,
  "vscode": {
   "interpreter": {
    "hash": "3e2b2785e650337f79381cd4c5df08c4d5dc4623a6a0d2da7e01465b331d0fcc"
   }
  }
 },
 "nbformat": 4,
 "nbformat_minor": 2
}
