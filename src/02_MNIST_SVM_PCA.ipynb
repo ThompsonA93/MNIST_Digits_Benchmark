{
 "cells": [
  {
   "cell_type": "markdown",
   "metadata": {},
   "source": [
    "# MNIST-SVM-PCA\n",
    "\n",
    "The following script executes a program for digit recognition on the mnist database using Support Vector Machines (SVM) and Principal Component Analysis (PCA). "
   ]
  },
  {
   "cell_type": "code",
   "execution_count": 1,
   "metadata": {},
   "outputs": [],
   "source": [
    "### Packages\n",
    "from datetime import datetime\n",
    "import time\n",
    "import os\n",
    "\n",
    "import matplotlib.pyplot as plt\n",
    "%matplotlib inline\n",
    "\n",
    "from keras.datasets import mnist\n",
    "\n",
    "from sklearn.svm import SVC\n",
    "from sklearn.decomposition import PCA\n",
    "from sklearn.model_selection import GridSearchCV\n",
    "from sklearn.metrics import classification_report\n",
    "\n",
    "import config\n",
    "\n",
    "### Configurations\n",
    "# Training-Size\n",
    "num_train = config.num_train                   # 60000 for full data set \n",
    "num_test  = config.num_test                    # 10000 for full data set"
   ]
  },
  {
   "cell_type": "code",
   "execution_count": 2,
   "metadata": {},
   "outputs": [
    {
     "name": "stdout",
     "output_type": "stream",
     "text": [
      "Generated data will be located in  c:\\Users\\auerth\\Desktop\\Study\\MNIST_Digits_Benchmark\\src/log/svm-pca-training-log.txt c:\\Users\\auerth\\Desktop\\Study\\MNIST_Digits_Benchmark\\src/log/svm-pca-hyperparameter-tuning-log.txt\n",
      "[2022-09-12 15:57:43.343515] on (Windows-10-10.0.19044-SP0, Intel64 Family 6 Model 140 Stepping 1, GenuineIntel) using (Train: 15000, Test: 2500)\n"
     ]
    }
   ],
   "source": [
    "# Simple function to log information\n",
    "path = os.getcwd()+\"/log\"\n",
    "logDir = os.path.exists(path)\n",
    "if not logDir:\n",
    "    os.makedirs(path)\n",
    "\n",
    "training_results = path+\"/svm-pca-training-log.txt\"\n",
    "def log_training_results(*s):\n",
    "    with open(training_results, 'a') as f:\n",
    "        for arg in s:\n",
    "            print(arg, file=f)\n",
    "            print(arg)\n",
    "\n",
    "hyperparameter_search_log = path+\"/svm-pca-hyperparameter-tuning-log.txt\"\n",
    "def log_hyperparameter_search(*s):\n",
    "    with open(hyperparameter_search_log, 'a') as f:\n",
    "        for arg in s:\n",
    "            print(arg, file=f)\n",
    "            print(arg)\n",
    "\n",
    "print(\"Generated data will be located in \", training_results, hyperparameter_search_log)\n",
    "log_training_results(\"[%s] on (%s, %s) using (Train: %s, Test: %s)\" % (datetime.now(), config.os, config.cpu, config.num_train, config.num_test))\n",
    "if config.hyper_parameter_search:\n",
    "    log_hyperparameter_search(\"[%s] on (%s, %s) using (Train: %s, Test: %s)\" % (datetime.now(), config.os, config.cpu, config.num_train, config.num_test))\n"
   ]
  },
  {
   "cell_type": "code",
   "execution_count": 3,
   "metadata": {},
   "outputs": [],
   "source": [
    "# Fetch MNIST-Data from Keras repository\n",
    "(X_train, y_train), (X_test, y_test) = mnist.load_data()"
   ]
  },
  {
   "cell_type": "code",
   "execution_count": 4,
   "metadata": {},
   "outputs": [
    {
     "name": "stdout",
     "output_type": "stream",
     "text": [
      "Shape of training data:\t\t (60000, 28, 28)\n",
      "Shape of training labels:\t (60000,)\n",
      "Shape of testing data:\t\t (10000, 28, 28)\n",
      "Shape of testing labels:\t (10000,)\n"
     ]
    }
   ],
   "source": [
    "# Display (Train) (Test) datasets\n",
    "print(\"Shape of training data:\\t\\t\", X_train.shape)\n",
    "print(\"Shape of training labels:\\t\", y_train.shape)\n",
    "print(\"Shape of testing data:\\t\\t\", X_test.shape)\n",
    "print(\"Shape of testing labels:\\t\", y_test.shape)\n",
    "\n",
    "# i.e.: We have 60000 images with a size of 28x28 pixels\n"
   ]
  },
  {
   "cell_type": "code",
   "execution_count": 5,
   "metadata": {},
   "outputs": [
    {
     "data": {
      "image/png": "[encoded data removed]",
      "text/plain": [
       "<Figure size 2000x2000 with 10 Axes>"
      ]
     },
     "metadata": {},
     "output_type": "display_data"
    }
   ],
   "source": [
    "# Visualize some examples\n",
    "num_classes = 10 # 0 .. 9\n",
    "f, ax = plt.subplots(1, num_classes, figsize=(20,20))\n",
    "for i in range(0, num_classes):\n",
    "  sample = X_train[y_train == i][0]\n",
    "  ax[i].imshow(sample, cmap='gray')\n",
    "  ax[i].set_title(\"Label: {}\".format(i), fontsize=16)\n",
    "  ax[i].axis('off')"
   ]
  },
  {
   "cell_type": "markdown",
   "metadata": {},
   "source": [
    "# Prepare loaded data"
   ]
  },
  {
   "cell_type": "code",
   "execution_count": 6,
   "metadata": {},
   "outputs": [],
   "source": [
    "# Reshape the data such that we have access to every pixel of the image\n",
    "# The reason to access every pixel is that only then we can apply deep learning ideas and can assign color code to every pixel.\n",
    "\n",
    "train_data = X_train.reshape((X_train.shape[0], 28*28)).astype('float32')\n",
    "train_label = y_train.astype(\"float32\")\n",
    "\n",
    "test_data = X_test.reshape((X_test.shape[0], 28*28)).astype('float32')\n",
    "test_label = y_test.astype(\"float32\")\n",
    "\n",
    "\n"
   ]
  },
  {
   "cell_type": "code",
   "execution_count": 7,
   "metadata": {},
   "outputs": [],
   "source": [
    "# We know the RGB color code where different values produce various colors. It is also difficult to remember every color combination. \n",
    "# We already know that each pixel has its unique color code and also we know that it has a maximum value of 255. \n",
    "# To perform Machine Learning, it is important to convert all the values from 0 to 255 for every pixel to a range of values from 0 to 1.\n",
    "train_data = train_data / 255\n",
    "test_data = test_data / 255"
   ]
  },
  {
   "cell_type": "code",
   "execution_count": 8,
   "metadata": {},
   "outputs": [],
   "source": [
    "# As an optional step, we decrease the training and testing data size, such that the algorithms perform their execution in acceptable time\n",
    "train_data = train_data[1:num_train,]\n",
    "train_label = train_label[1:num_train]\n",
    "\n",
    "test_data = test_data[1:num_test,]\n",
    "test_label = test_label[1:num_test]"
   ]
  },
  {
   "cell_type": "code",
   "execution_count": 9,
   "metadata": {},
   "outputs": [
    {
     "name": "stdout",
     "output_type": "stream",
     "text": [
      "Reshaped training data:\t\t (14999, 784)\n",
      "Reshaped training labels:\t (14999,)\n",
      "Reshaped testing data:\t\t (2499, 784)\n",
      "Reshaped testing labels:\t (2499,)\n"
     ]
    }
   ],
   "source": [
    "# Display (Train) (Test) datasets\n",
    "\n",
    "print(\"Reshaped training data:\\t\\t\", train_data.shape)\n",
    "print(\"Reshaped training labels:\\t\", train_label.shape)\n",
    "print(\"Reshaped testing data:\\t\\t\", test_data.shape)\n",
    "print(\"Reshaped testing labels:\\t\", test_label.shape)\n",
    "\n",
    "# As we can see: We now have X images with 784 pixels in total\n",
    "# We now operate on this data"
   ]
  },
  {
   "cell_type": "markdown",
   "metadata": {},
   "source": [
    "# Principal Component Analysis\n",
    "\n",
    "Linear dimensionality reduction using Singular Value Decomposition of the data to project it to a lower dimensional space. The input data is centered but not scaled for each feature before applying the SVD.\n",
    "It uses the LAPACK implementation of the full SVD or a randomized truncated SVD by the method of Halko et al. 2009, depending on the shape of the input data and the number of components to extract.\n",
    "\n",
    "For more information, see: https://scikit-learn.org/stable/modules/generated/sklearn.decomposition.PCA.html "
   ]
  },
  {
   "cell_type": "code",
   "execution_count": 10,
   "metadata": {},
   "outputs": [],
   "source": [
    "# The default layout of PCA()\n",
    "# @see https://scikit-learn.org/stable/modules/generated/sklearn.decomposition.PCA.html\n",
    "pca = PCA(\n",
    "    n_components=None,                  # Number of components to keep. if n_components is not set all components are kept\n",
    "    copy=True,                          # If False, data passed to fit are overwritten and running fit(X).transform(X) will not yield the expected results, use fit_transform(X) instead.\n",
    "    whiten=False,                       # Whitening will remove some information from the transformed signal (the relative variance scales of the components) but can sometime improve the predictive accuracy of the downstream estimators by making their data respect some hard-wired assumptions.\n",
    "    svd_solver='auto',                  # The solver is selected by a default policy based on X.shape and n_components: if the input data is larger than 500x500 and the number of components to extract is lower than 80% of the smallest dimension of the data, then the more efficient ‘randomized’ method is enabled. Otherwise the exact full SVD is computed and optionally truncated afterwards.\n",
    "    tol=0.0,                            # Tolerance for singular values computed by svd_solver == ‘arpack’. Must be of range [0.0, infinity).\n",
    "    iterated_power='auto',              # Number of iterations for the power method computed by svd_solver == ‘randomized’. Must be of range [0, infinity).\n",
    "    n_oversamples=10,                   # This parameter is only relevant when svd_solver=\"randomized\". It corresponds to the additional number of random vectors to sample the range of X so as to ensure proper conditioning.\n",
    "    power_iteration_normalizer='auto',  # Power iteration normalizer for randomized SVD solver. Not used by ARPACK. See randomized_svd for more details.\n",
    "    random_state=None                   # Used when the ‘arpack’ or ‘randomized’ solvers are used. Pass an int for reproducible results across multiple function calls. \n",
    ")"
   ]
  },
  {
   "cell_type": "code",
   "execution_count": 11,
   "metadata": {},
   "outputs": [],
   "source": [
    "# Fitting the PCA algorithm with the datasets\n",
    "pca = PCA().fit(train_data)"
   ]
  },
  {
   "cell_type": "code",
   "execution_count": 12,
   "metadata": {},
   "outputs": [],
   "source": [
    "# Reshaping the data based on the PCA\n",
    "pca_train_data = pca.transform(train_data)\n",
    "pca_test_data = pca.transform(test_data)"
   ]
  },
  {
   "cell_type": "code",
   "execution_count": 13,
   "metadata": {},
   "outputs": [
    {
     "name": "stdout",
     "output_type": "stream",
     "text": [
      "Reshaped training data:\t\t (14999, 784)\n",
      "Reshaped training labels:\t (14999,)\n",
      "Reshaped testing data:\t\t (2499, 784)\n",
      "Reshaped testing labels:\t (2499,)\n"
     ]
    }
   ],
   "source": [
    "# Display (Train) (Test) datasets\n",
    "\n",
    "print(\"Reshaped training data:\\t\\t\", pca_train_data.shape)\n",
    "print(\"Reshaped training labels:\\t\", train_label.shape)\n",
    "print(\"Reshaped testing data:\\t\\t\", pca_test_data.shape)\n",
    "print(\"Reshaped testing labels:\\t\", test_label.shape)\n",
    "\n",
    "# As we can see: We now have X images with 784 pixels in total\n",
    "# We now operate on this data"
   ]
  },
  {
   "cell_type": "code",
   "execution_count": 14,
   "metadata": {},
   "outputs": [
    {
     "data": {
      "text/plain": [
       "1.0"
      ]
     },
     "execution_count": 14,
     "metadata": {},
     "output_type": "execute_result"
    },
    {
     "data": {
      "image/png": "[encoded data removed]",
      "text/plain": [
       "<Figure size 640x480 with 1 Axes>"
      ]
     },
     "metadata": {},
     "output_type": "display_data"
    }
   ],
   "source": [
    "plt.hist(pca.explained_variance_ratio_, log=True)\n",
    "pca.explained_variance_ratio_.sum()"
   ]
  },
  {
   "cell_type": "markdown",
   "metadata": {},
   "source": [
    "# Support Vector Machines\n",
    "\n",
    "Support vector machines (SVMs) are a set of supervised learning methods used for classification, regression and outliers detection. We use the SVM-package supplied by SKLearn.\n",
    "\n",
    "For more information, see: https://scikit-learn.org/stable/modules/svm.html"
   ]
  },
  {
   "cell_type": "code",
   "execution_count": 15,
   "metadata": {},
   "outputs": [],
   "source": [
    "# The default layout of svm.svc() \n",
    "# @see https://scikit-learn.org/stable/modules/generated/sklearn.svm.SVC.html\n",
    "svm = SVC(\n",
    "    C=1.0,                          # Regularization parameter. The strength of the regularization is inversely proportional to C. Must be strictly positive. The penalty is a squared l2 penalty.\n",
    "    kernel='linear',                # Specifies the kernel type to be used in the algorithm. \n",
    "    degree=3,                       # Degree of the polynomial kernel function (‘poly’). Ignored by all other kernels.\n",
    "    gamma='scale',                  # Kernel coefficient for ‘rbf’, ‘poly’ and ‘sigmoid’.\n",
    "    coef0=0.0,                      # Independent term in kernel function. It is only significant in ‘poly’ and ‘sigmoid’.\n",
    "    shrinking=True,                 # Whether to use the shrinking heuristic. \n",
    "    probability=False,              # Whether to enable probability estimates. \n",
    "    tol=0.001,                      # Tolerance for stopping criterion.\n",
    "    cache_size=200,                 # Specify the size of the kernel cache (in MB).\n",
    "    class_weight=None,              # Set the parameter C of class i to class_weight[i]*C for SVC. If not given, all classes are supposed to have weight one. \n",
    "    verbose=False,                  # Enable verbose output. Note that this setting takes advantage of a per-process runtime setting in libsvm that, if enabled, may not work properly in a multithreaded context.\n",
    "    max_iter=-1,                    # Hard limit on iterations within solver, or -1 for no limit.\n",
    "    decision_function_shape='ovr',  # Whether to return a one-vs-rest (‘ovr’) decision function of shape (n_samples, n_classes) as all other classifiers, or the original one-vs-one (‘ovo’) decision function of libsvm which has shape (n_samples, n_classes * (n_classes - 1) / 2).\n",
    "    break_ties=False,               # If true, decision_function_shape='ovr', and number of classes > 2, predict will break ties according to the confidence values of decision_function;\n",
    "    random_state=None               # Controls the pseudo random number generation for shuffling the data for probability estimates.\n",
    ")"
   ]
  },
  {
   "cell_type": "markdown",
   "metadata": {},
   "source": [
    "## Linear SVC"
   ]
  },
  {
   "cell_type": "code",
   "execution_count": 16,
   "metadata": {},
   "outputs": [
    {
     "name": "stdout",
     "output_type": "stream",
     "text": [
      "Trained new model: {'Kernel':'linear'} in 12.408801078796387 seconds\n",
      "\t[linear]: mean accuracy on train-data: 0.9921328088539236; execution time: 17.622085094451904s\n",
      "\t[linear]: mean accuracy on test-data: 0.8935574229691877; execution time: 2.831554412841797s\n"
     ]
    }
   ],
   "source": [
    "# Evalute SVM.SVC with parameters on data below\n",
    "svm = SVC(kernel='linear')\n",
    "start_time = time.time()\n",
    "svm.fit(pca_train_data, train_label)\n",
    "end_time = time.time() - start_time\n",
    "log_training_results(\"Trained new model: {'Kernel':'%s'} in %s seconds\" % (svm.get_params()[\"kernel\"], end_time))\n",
    "\n",
    "start_time = time.time()\n",
    "score = svm.score(pca_train_data, train_label)\n",
    "end_time = time.time() - start_time\n",
    "log_training_results(\"\\t[%s]: mean accuracy on train-data: %s; execution time: %ss\" % (svm.get_params()[\"kernel\"], score, end_time))  \n",
    "\n",
    "start_time = time.time()\n",
    "score = svm.score(pca_test_data, test_label)\n",
    "end_time = time.time() - start_time\n",
    "log_training_results(\"\\t[%s]: mean accuracy on test-data: %s; execution time: %ss\" % (svm.get_params()[\"kernel\"], score, end_time))  "
   ]
  },
  {
   "cell_type": "code",
   "execution_count": 17,
   "metadata": {},
   "outputs": [],
   "source": [
    "# Hyperparameter search -- Takes up a long time.\n",
    "if config.hyper_parameter_search:\n",
    "    svm = SVC()\n",
    "    parameters = {\n",
    "            \"kernel\":[\"linear\"], \n",
    "            \"C\":[1,10,100],            \n",
    "            \"gamma\":[0.01,0.005,0.001,0.0005,0.0001],        \n",
    "            #\"shrinking\":[True,False],      \n",
    "            #\"probability\":[True,False], \n",
    "            #\"tol\":[0.01,0.001,0.0001],\n",
    "    }\n",
    "    scores = [\n",
    "        'accuracy',\n",
    "        #\"precision\",    # The precision is intuitively the ability of the classifier not to label as positive a sample that is negative\n",
    "        #\"recall\",       # The recall is intuitively the ability of the classifier to find all the positive samples.\n",
    "        ]\n",
    "    for score in scores:\n",
    "        log_hyperparameter_search(\"\\t--- [%s] Running Parameter-Tests [LINEAR-PCA-SVC] ---\" % datetime.now())\n",
    "        log_hyperparameter_search(\"\\tTuning parameters for criteria [%s]\" % score)\n",
    "        # FIXME: Doesn't take accuracy as score for some reason. Refer to line below for accuracy score\n",
    "        #grid = GridSearchCV(estimator=svm, param_grid=parameters, scoring=\"%s_macro\" % score, verbose=3)\n",
    "        grid = GridSearchCV(estimator=svm, param_grid=parameters, scoring='accuracy', verbose=3, n_jobs=-1)\n",
    "        grid.fit(pca_train_data, train_label)\n",
    "\n",
    "        log_hyperparameter_search(\"\\tBest parameters set found on following development set:\")\n",
    "        log_hyperparameter_search(\"\\t\\tSupport Vector: %s\" % grid.best_estimator_)\n",
    "        log_hyperparameter_search(\"\\t\\tSupport Vector Parametrization: %s\" % grid.best_params_)\n",
    "        log_hyperparameter_search(\"\\t\\tAsserted Score: %s\" % grid.best_score_)\n",
    "        log_hyperparameter_search(\"Total Score \\t\\t Configurations\")\n",
    "\n",
    "        means = grid.cv_results_[\"mean_test_score\"]\n",
    "        stds = grid.cv_results_[\"std_test_score\"]\n",
    "        params = grid.cv_results_[\"params\"]\n",
    "        for mean, std, params in zip(means, stds, params):\n",
    "            log_hyperparameter_search(\"%0.3f (+/-%0.03f)\\t%r\" % (mean, std, params))\n",
    "        print(\"Wrote classifier comparisons to file \", hyperparameter_search_log)\n",
    "\n",
    "        print(\"Detailed classification report:\")\n",
    "        print(\"The model is trained on the full development set.\")\n",
    "        print(\"The scores are computed on the full evaluation set.\")\n",
    "    \n",
    "        y_true, y_pred = test_label, grid.predict(pca_test_data)\n",
    "        log_hyperparameter_search(classification_report(y_true, y_pred))\n",
    "        print()"
   ]
  },
  {
   "cell_type": "markdown",
   "metadata": {},
   "source": [
    "## Poly SVC"
   ]
  },
  {
   "cell_type": "code",
   "execution_count": 18,
   "metadata": {},
   "outputs": [
    {
     "name": "stdout",
     "output_type": "stream",
     "text": [
      "Trained new model: {'Kernel':'poly'} in 38.11026358604431 seconds\n",
      "\t[poly]: mean accuracy on train-data: 0.9965331022068138; execution time: 33.05199384689331s\n",
      "\t[poly]: mean accuracy on test-data: 0.9555822328931572; execution time: 6.724902629852295s\n"
     ]
    }
   ],
   "source": [
    "# Evalute SVM.SVC with parameters on data below\n",
    "svm = SVC(kernel='poly')\n",
    "start_time = time.time()\n",
    "svm.fit(pca_train_data, train_label)\n",
    "end_time = time.time() - start_time\n",
    "log_training_results(\"Trained new model: {'Kernel':'%s'} in %s seconds\" % (svm.get_params()[\"kernel\"], end_time))\n",
    "\n",
    "start_time = time.time()\n",
    "score = svm.score(pca_train_data, train_label)\n",
    "end_time = time.time() - start_time\n",
    "log_training_results(\"\\t[%s]: mean accuracy on train-data: %s; execution time: %ss\" % (svm.get_params()[\"kernel\"], score, end_time))  \n",
    "\n",
    "\n",
    "start_time = time.time()\n",
    "score = svm.score(pca_test_data, test_label)\n",
    "end_time = time.time() - start_time\n",
    "log_training_results(\"\\t[%s]: mean accuracy on test-data: %s; execution time: %ss\" % (svm.get_params()[\"kernel\"], score, end_time))  \n",
    " \n"
   ]
  },
  {
   "cell_type": "code",
   "execution_count": 19,
   "metadata": {},
   "outputs": [],
   "source": [
    "# Hyperparameter search -- Takes up a long time.\n",
    "if config.hyper_parameter_search:\n",
    "    svm = SVC()\n",
    "    parameters = {\n",
    "            \"kernel\":[\"poly\"], \n",
    "            \"C\":[1,10,50,100],            \n",
    "            \"gamma\":[0.01,0.005,0.001,0.0005,0.0001],        \n",
    "            #\"coef0\":[0.0, 0.5],\n",
    "            #\"degree\":[3,5,10],                \n",
    "            #\"shrinking\":[True,False],      \n",
    "            #\"probability\":[True,False], \n",
    "            #\"tol\":[0.01,0.001,0.0001],\n",
    "    }\n",
    "    scores = [\n",
    "        \"accuracy\",\n",
    "        #\"precision\",    # The precision is intuitively the ability of the classifier not to label as positive a sample that is negative\n",
    "        #\"recall\",       # The recall is intuitively the ability of the classifier to find all the positive samples.\n",
    "        ]\n",
    "    for score in scores:\n",
    "        log_hyperparameter_search(\"--- [%s] Running Parameter-Tests [POLY-PCA-SVC] ---\" % datetime.now())\n",
    "        log_hyperparameter_search(\"\\tTuning parameters for criteria [%s]\" % score)\n",
    "        # FIXME: Doesn't take accuracy as score for some reason. Refer to line below for accuracy score\n",
    "        #grid = GridSearchCV(estimator=svm, param_grid=parameters, scoring=\"%s_macro\" % score, verbose=3)\n",
    "        grid = GridSearchCV(estimator=svm, param_grid=parameters, scoring='accuracy', verbose=3, n_jobs=-1)\n",
    "        grid.fit(pca_train_data, train_label)\n",
    "\n",
    "        log_hyperparameter_search(\"\\tBest parameters set found on following development set:\")\n",
    "        log_hyperparameter_search(\"\\t\\tSupport Vector: %s\" % grid.best_estimator_)\n",
    "        log_hyperparameter_search(\"\\t\\tSupport Vector Parametrization: %s\" % grid.best_params_)\n",
    "        log_hyperparameter_search(\"\\t\\tAsserted Score: %s\" % grid.best_score_)\n",
    "        log_hyperparameter_search(\"Total Score \\t\\t Configurations\")\n",
    "\n",
    "        means = grid.cv_results_[\"mean_test_score\"]\n",
    "        stds = grid.cv_results_[\"std_test_score\"]\n",
    "        params = grid.cv_results_[\"params\"]\n",
    "        for mean, std, params in zip(means, stds, params):\n",
    "            log_hyperparameter_search(\"%0.3f (+/-%0.03f)\\t%r\" % (mean, std, params))\n",
    "        print(\"Wrote classifier comparisons to file \", hyperparameter_search_log)\n",
    "\n",
    "        print(\"Detailed classification report:\")\n",
    "        print(\"The model is trained on the full development set.\")\n",
    "        print(\"The scores are computed on the full evaluation set.\")\n",
    "    \n",
    "        y_true, y_pred = test_label, grid.predict(pca_test_data)\n",
    "        log_hyperparameter_search(classification_report(y_true, y_pred))\n",
    "        print()"
   ]
  },
  {
   "cell_type": "markdown",
   "metadata": {},
   "source": [
    "## RBF SVC"
   ]
  },
  {
   "cell_type": "code",
   "execution_count": 20,
   "metadata": {},
   "outputs": [
    {
     "name": "stdout",
     "output_type": "stream",
     "text": [
      "Trained new model: {'Kernel':'rbf'} in 21.55874800682068 seconds\n",
      "\t[rbf]: mean accuracy on train-data: 0.9928661910794053; execution time: 63.37735438346863s\n",
      "\t[rbf]: mean accuracy on test-data: 0.9551820728291317; execution time: 10.86228084564209s\n"
     ]
    }
   ],
   "source": [
    "# Evalute SVM.SVC with parameters on data below\n",
    "svm = SVC(kernel='rbf')\n",
    "start_time = time.time()\n",
    "svm.fit(pca_train_data, train_label)\n",
    "end_time = time.time() - start_time\n",
    "log_training_results(\"Trained new model: {'Kernel':'%s'} in %s seconds\" % (svm.get_params()[\"kernel\"], end_time))\n",
    "\n",
    "start_time = time.time()\n",
    "score = svm.score(pca_train_data, train_label)\n",
    "end_time = time.time() - start_time\n",
    "log_training_results(\"\\t[%s]: mean accuracy on train-data: %s; execution time: %ss\" % (svm.get_params()[\"kernel\"], score, end_time))  \n",
    "\n",
    "\n",
    "start_time = time.time()\n",
    "score = svm.score(pca_test_data, test_label)\n",
    "end_time = time.time() - start_time\n",
    "log_training_results(\"\\t[%s]: mean accuracy on test-data: %s; execution time: %ss\" % (svm.get_params()[\"kernel\"], score, end_time))  \n",
    " \n"
   ]
  },
  {
   "cell_type": "code",
   "execution_count": 21,
   "metadata": {},
   "outputs": [],
   "source": [
    "# Hyperparameter search -- Takes up a long time.\n",
    "if config.hyper_parameter_search:\n",
    "    svm = SVC()\n",
    "    parameters = {\n",
    "            \"kernel\":[\"rbf\"], \n",
    "            \"C\":[1,10,50,100],            \n",
    "            \"gamma\":[0.01,0.005,0.001,0.0005,0.0001],        \n",
    "            #\"shrinking\":[True,False],      \n",
    "            #\"probability\":[True,False], \n",
    "            #\"tol\":[0.01,0.001,0.0001],\n",
    "    }\n",
    "    scores = [\n",
    "        \"accuracy\",\n",
    "        #\"precision\",    # The precision is intuitively the ability of the classifier not to label as positive a sample that is negative\n",
    "        #\"recall\",       # The recall is intuitively the ability of the classifier to find all the positive samples.\n",
    "        ]\n",
    "    for score in scores:\n",
    "        log_hyperparameter_search(\"--- [%s] Running Parameter-Tests [RBF-PCA-SVC] ---\" % datetime.now())\n",
    "        log_hyperparameter_search(\"\\tTuning parameters for criteria [%s]\" % score)\n",
    "        # FIXME: Doesn't take accuracy as score for some reason. Refer to line below for accuracy score\n",
    "        #grid = GridSearchCV(estimator=svm, param_grid=parameters, scoring=\"%s_macro\" % score, verbose=3)\n",
    "        grid = GridSearchCV(estimator=svm, param_grid=parameters, scoring='accuracy', verbose=3, n_jobs=-1)\n",
    "        grid.fit(pca_train_data, train_label)\n",
    "\n",
    "        log_hyperparameter_search(\"\\tBest parameters set found on following development set:\")\n",
    "        log_hyperparameter_search(\"\\t\\tSupport Vector: %s\" % grid.best_estimator_)\n",
    "        log_hyperparameter_search(\"\\t\\tSupport Vector Parametrization: %s\" % grid.best_params_)\n",
    "        log_hyperparameter_search(\"\\t\\tAsserted Score: %s\" % grid.best_score_)\n",
    "        log_hyperparameter_search(\"Total Score \\t\\t Configurations\")\n",
    "\n",
    "        means = grid.cv_results_[\"mean_test_score\"]\n",
    "        stds = grid.cv_results_[\"std_test_score\"]\n",
    "        params = grid.cv_results_[\"params\"]\n",
    "        for mean, std, params in zip(means, stds, params):\n",
    "            log_hyperparameter_search(\"%0.3f (+/-%0.03f)\\t%r\" % (mean, std, params))\n",
    "        print(\"Wrote classifier comparisons to file \", hyperparameter_search_log)\n",
    "\n",
    "        print(\"Detailed classification report:\")\n",
    "        print(\"The model is trained on the full development set.\")\n",
    "        print(\"The scores are computed on the full evaluation set.\")\n",
    "    \n",
    "        y_true, y_pred = test_label, grid.predict(pca_test_data)\n",
    "        log_hyperparameter_search(classification_report(y_true, y_pred))\n",
    "        print()"
   ]
  },
  {
   "cell_type": "markdown",
   "metadata": {},
   "source": [
    "## Sigmoid SVC"
   ]
  },
  {
   "cell_type": "code",
   "execution_count": 22,
   "metadata": {},
   "outputs": [
    {
     "name": "stdout",
     "output_type": "stream",
     "text": [
      "Trained new model: {'Kernel':'sigmoid'} in 14.930679321289062 seconds\n",
      "\t[sigmoid]: mean accuracy on train-data: 0.8842589505967065; execution time: 25.45977258682251s\n",
      "\t[sigmoid]: mean accuracy on test-data: 0.8563425370148059; execution time: 4.271034240722656s\n"
     ]
    }
   ],
   "source": [
    "# Evalute SVM.SVC with parameters on data below\n",
    "svm = SVC(kernel='sigmoid')\n",
    "start_time = time.time()\n",
    "svm.fit(pca_train_data, train_label)\n",
    "end_time = time.time() - start_time\n",
    "log_training_results(\"Trained new model: {'Kernel':'%s'} in %s seconds\" % (svm.get_params()[\"kernel\"], end_time))\n",
    "\n",
    "start_time = time.time()\n",
    "score = svm.score(pca_train_data, train_label)\n",
    "end_time = time.time() - start_time\n",
    "log_training_results(\"\\t[%s]: mean accuracy on train-data: %s; execution time: %ss\" % (svm.get_params()[\"kernel\"], score, end_time))  \n",
    "\n",
    "\n",
    "start_time = time.time()\n",
    "score = svm.score(pca_test_data, test_label)\n",
    "end_time = time.time() - start_time\n",
    "log_training_results(\"\\t[%s]: mean accuracy on test-data: %s; execution time: %ss\" % (svm.get_params()[\"kernel\"], score, end_time))  \n",
    " \n"
   ]
  },
  {
   "cell_type": "code",
   "execution_count": 23,
   "metadata": {},
   "outputs": [],
   "source": [
    "# Hyperparameter search -- Takes up a long time.\n",
    "if config.hyper_parameter_search:\n",
    "    svm = SVC()\n",
    "    parameters = {\n",
    "            \"kernel\":[\"sigmoid\"], \n",
    "            \"C\":[1,10,50,100],            \n",
    "            \"gamma\":[0.01,0.005,0.001,0.0005,0.0001],        \n",
    "            #\"shrinking\":[True,False],      \n",
    "            #\"probability\":[True,False], \n",
    "            #\"tol\":[0.01,0.001,0.0001],\n",
    "    }\n",
    "    scores = [\n",
    "        \"accuracy\",\n",
    "        #\"precision\",    # The precision is intuitively the ability of the classifier not to label as positive a sample that is negative\n",
    "        #\"recall\",       # The recall is intuitively the ability of the classifier to find all the positive samples.\n",
    "        ]\n",
    "    for score in scores:\n",
    "        log_hyperparameter_search(\"--- [%s] Running Parameter-Tests [SIGMOID-PCA-SVC] ---\" % datetime.now())\n",
    "        log_hyperparameter_search(\"\\tTuning parameters for criteria [%s]\" % score)\n",
    "        # FIXME: Doesn't take accuracy as score for some reason. Refer to line below for accuracy score\n",
    "        #grid = GridSearchCV(estimator=svm, param_grid=parameters, scoring=\"%s_macro\" % score, verbose=3)\n",
    "        grid = GridSearchCV(estimator=svm, param_grid=parameters, scoring='accuracy', verbose=3, n_jobs=-1)\n",
    "        grid.fit(pca_train_data, train_label)\n",
    "\n",
    "        log_hyperparameter_search(\"\\tBest parameters set found on following development set:\")\n",
    "        log_hyperparameter_search(\"\\t\\tSupport Vector: %s\" % grid.best_estimator_)\n",
    "        log_hyperparameter_search(\"\\t\\tSupport Vector Parametrization: %s\" % grid.best_params_)\n",
    "        log_hyperparameter_search(\"\\t\\tAsserted Score: %s\" % grid.best_score_)\n",
    "        log_hyperparameter_search(\"Total Score \\t\\t Configurations\")\n",
    "\n",
    "        means = grid.cv_results_[\"mean_test_score\"]\n",
    "        stds = grid.cv_results_[\"std_test_score\"]\n",
    "        params = grid.cv_results_[\"params\"]\n",
    "        for mean, std, params in zip(means, stds, params):\n",
    "            log_hyperparameter_search(\"%0.3f (+/-%0.03f)\\t%r\" % (mean, std, params))\n",
    "        print(\"Wrote classifier comparisons to file \", hyperparameter_search_log)\n",
    "\n",
    "        print(\"Detailed classification report:\")\n",
    "        print(\"The model is trained on the full development set.\")\n",
    "        print(\"The scores are computed on the full evaluation set.\")\n",
    "    \n",
    "        y_true, y_pred = test_label, grid.predict(pca_test_data)\n",
    "        log_hyperparameter_search(classification_report(y_true, y_pred))\n",
    "        print()"
   ]
  },
  {
   "cell_type": "markdown",
   "metadata": {},
   "source": []
  }
 ],
 "metadata": {
  "kernelspec": {
   "display_name": "Python 3.10.7 64-bit (microsoft store)",
   "language": "python",
   "name": "python3"
  },
  "language_info": {
   "codemirror_mode": {
    "name": "ipython",
    "version": 3
   },
   "file_extension": ".py",
   "mimetype": "text/x-python",
   "name": "python",
   "nbconvert_exporter": "python",
   "pygments_lexer": "ipython3",
   "version": "3.10.7"
  },
  "orig_nbformat": 4,
  "vscode": {
   "interpreter": {
    "hash": "3e2b2785e650337f79381cd4c5df08c4d5dc4623a6a0d2da7e01465b331d0fcc"
   }
  }
 },
 "nbformat": 4,
 "nbformat_minor": 2
}
