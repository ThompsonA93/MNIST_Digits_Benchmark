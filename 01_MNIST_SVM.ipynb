{
 "cells": [
  {
   "cell_type": "markdown",
   "metadata": {},
   "source": [
    "# Initialize the System"
   ]
  },
  {
   "cell_type": "code",
   "execution_count": 33,
   "metadata": {},
   "outputs": [],
   "source": [
    "from datetime import datetime\n",
    "\n",
    "import sys\n",
    "\n",
    "import numpy as np\n",
    "import matplotlib.pyplot as plt\n",
    "%matplotlib inline\n",
    "\n",
    "import keras\n",
    "from keras.models import Sequential\n",
    "from keras.layers import Dense, Dropout\n",
    "from keras.datasets import mnist\n",
    "\n",
    "from sklearn.svm import SVC\n",
    "from sklearn.model_selection import GridSearchCV\n",
    "from sklearn.decomposition import PCA\n",
    "from sklearn.metrics import classification_report\n",
    "from sklearn.metrics import accuracy_score\n",
    "from sklearn.metrics import confusion_matrix\n",
    "\n",
    "import seaborn as sns\n"
   ]
  },
  {
   "cell_type": "code",
   "execution_count": 34,
   "metadata": {},
   "outputs": [],
   "source": [
    "num_train = 15000       # 60000 for full data set \n",
    "num_test  = 2500        # 10000 for full data set\n",
    "\n",
    "txt_out_file_path = 'svm-parameter-tuning-log.txt'\n",
    "def print_to_txt_file(*s):\n",
    "    with open(txt_out_file_path, 'a') as f:\n",
    "        for arg in s:\n",
    "            print(arg, file=f)\n",
    "            print(arg)"
   ]
  },
  {
   "cell_type": "code",
   "execution_count": 35,
   "metadata": {},
   "outputs": [],
   "source": [
    "# Fetch Data automatically\n",
    "(x_train, y_train), (x_test, y_test) = mnist.load_data()"
   ]
  },
  {
   "cell_type": "code",
   "execution_count": 36,
   "metadata": {},
   "outputs": [
    {
     "name": "stdout",
     "output_type": "stream",
     "text": [
      "Data : Dataset Trainingset\n",
      "(60000, 28, 28) (10000, 28, 28)\n",
      "Labels : Dataset Trainingset\n",
      "(60000,) (10000,)\n"
     ]
    }
   ],
   "source": [
    "# Display (Train) (Test) datasets\n",
    "print(\"Data : Dataset Trainingset\")\n",
    "print(x_train.shape, x_test.shape)\n",
    "print(\"Labels : Dataset Trainingset\")\n",
    "print(y_train.shape, y_test.shape)"
   ]
  },
  {
   "cell_type": "code",
   "execution_count": 37,
   "metadata": {},
   "outputs": [
    {
     "data": {
      "image/png": "[encoded data removed]",
      "text/plain": [
       "<Figure size 2000x2000 with 10 Axes>"
      ]
     },
     "metadata": {},
     "output_type": "display_data"
    }
   ],
   "source": [
    "num_classes = 10 # 0 .. 9\n",
    "f, ax = plt.subplots(1, num_classes, figsize=(20,20))\n",
    "for i in range(0, num_classes):\n",
    "  sample = x_train[y_train == i][0]\n",
    "  ax[i].imshow(sample, cmap='gray')\n",
    "  ax[i].set_title(\"Label: {}\".format(i), fontsize=16)\n",
    "  ax[i].axis('off')"
   ]
  },
  {
   "cell_type": "markdown",
   "metadata": {},
   "source": [
    "# Prepare loaded data"
   ]
  },
  {
   "cell_type": "code",
   "execution_count": 38,
   "metadata": {},
   "outputs": [],
   "source": [
    "train_data = x_train.reshape(60000, 784).astype(\"float32\") / 255\n",
    "train_label = y_train.astype(\"float32\")\n",
    "\n",
    "test_data = x_test.reshape(10000, 784).astype(\"float32\") / 255\n",
    "test_label = y_test.astype(\"float32\")"
   ]
  },
  {
   "cell_type": "code",
   "execution_count": 39,
   "metadata": {},
   "outputs": [],
   "source": [
    "train_data = train_data[1:num_train,]\n",
    "train_label = train_label[1:num_train]\n",
    "\n",
    "test_data = test_data[1:num_test,]\n",
    "test_label = test_label[1:num_test]"
   ]
  },
  {
   "cell_type": "code",
   "execution_count": 40,
   "metadata": {},
   "outputs": [
    {
     "name": "stdout",
     "output_type": "stream",
     "text": [
      "Reshaped Data : Dataset Trainingset\n",
      "(14999, 784) (2499, 784)\n",
      "Reshaped Labels : Dataset Trainingset\n",
      "(14997,) (2497,)\n"
     ]
    }
   ],
   "source": [
    "# Display (Train) (Test) datasets\n",
    "print(\"Reshaped Data : Dataset Trainingset\")\n",
    "print(train_data.shape, test_data.shape)\n",
    "print(\"Reshaped Labels : Dataset Trainingset\")\n",
    "print(train_label.shape, test_label.shape)"
   ]
  },
  {
   "cell_type": "markdown",
   "metadata": {},
   "source": [
    "# Run Support-Vector Machines"
   ]
  },
  {
   "cell_type": "markdown",
   "metadata": {},
   "source": [
    "## Linear SVC"
   ]
  },
  {
   "cell_type": "code",
   "execution_count": 41,
   "metadata": {},
   "outputs": [],
   "source": [
    "# Eval SVM on Training Data\n",
    "svm = SVC(kernel='linear')\n",
    "#svm.fit(train_data, train_label)\n",
    "#pred_train = svm.predict(train_data)\n",
    "#print(\"Accuracy: \" + svm.score(train_data, train_label)) # Mean Accuracy on the given test data and labels"
   ]
  },
  {
   "cell_type": "code",
   "execution_count": 42,
   "metadata": {},
   "outputs": [],
   "source": [
    "# Eval SVM on test data\n",
    "svm = SVC(kernel='linear')\n",
    "#svm.fit(test_data, test_label)\n",
    "#pred_train = svm.predict(test_data)\n",
    "#svm.score(test_data, test_label) # Mean Accuracy on the given test data and labels"
   ]
  },
  {
   "cell_type": "markdown",
   "metadata": {},
   "source": [
    "## Poly SVC"
   ]
  },
  {
   "cell_type": "code",
   "execution_count": 43,
   "metadata": {},
   "outputs": [],
   "source": [
    "# Eval SVM on Training Data\n",
    "svm = SVC(kernel='poly')\n",
    "#svm.fit(train_data, train_label)\n",
    "#pred_train = svm.predict(train_data)\n",
    "#svm.score(train_data, train_label) # Mean Accuracy on the given test data and labels"
   ]
  },
  {
   "cell_type": "code",
   "execution_count": 44,
   "metadata": {},
   "outputs": [],
   "source": [
    "# Eval SVM on Training Data\n",
    "svm = SVC(kernel='poly')\n",
    "#svm.fit(train_data, train_label)\n",
    "#pred_train = svm.predict(train_data)\n",
    "#svm.score(train_data, train_label) # Mean Accuracy on the given test data and labels"
   ]
  },
  {
   "cell_type": "markdown",
   "metadata": {},
   "source": [
    "## RBF SVC"
   ]
  },
  {
   "cell_type": "code",
   "execution_count": 45,
   "metadata": {},
   "outputs": [],
   "source": [
    "# Eval SVM on Training Data\n",
    "svm = SVC(kernel='rbf')\n",
    "#svm.fit(train_data, train_label)\n",
    "#pred_train = svm.predict(train_data)\n",
    "#svm.score(train_data, train_label) # Mean Accuracy on the given test data and labels"
   ]
  },
  {
   "cell_type": "code",
   "execution_count": 46,
   "metadata": {},
   "outputs": [],
   "source": [
    "# Eval SVM on Training Data\n",
    "svm = SVC(kernel='rbf')\n",
    "#svm.fit(train_data, train_label)\n",
    "#pred_train = svm.predict(train_data)\n",
    "#svm.score(train_data, train_label) # Mean Accuracy on the given test data and labels"
   ]
  },
  {
   "cell_type": "markdown",
   "metadata": {},
   "source": [
    "# SVC Parameter Search\n",
    "\n",
    "Note: Takes a very long time. To reach acceptable execution time, switch to RandomSearch instead of GridSearch or deactivate some factors, such as gamma."
   ]
  },
  {
   "cell_type": "code",
   "execution_count": 47,
   "metadata": {},
   "outputs": [
    {
     "name": "stdout",
     "output_type": "stream",
     "text": [
      "--- [2022-09-06 14:21:27.980982] Running Parameter-Tests ---\n",
      "Tuning parameters for criteria [precision]\n"
     ]
    },
    {
     "ename": "ValueError",
     "evalue": "Found input variables with inconsistent numbers of samples: [14999, 14997]",
     "output_type": "error",
     "traceback": [
      "\u001b[1;31m---------------------------------------------------------------------------\u001b[0m",
      "\u001b[1;31mValueError\u001b[0m                                Traceback (most recent call last)",
      "\u001b[1;32mc:\\Users\\auerth\\Desktop\\Study\\MNIST_Digits_Benchmark\\01_MNIST_SVM.ipynb Cell 22\u001b[0m in \u001b[0;36m<cell line: 14>\u001b[1;34m()\u001b[0m\n\u001b[0;32m     <a href='vscode-notebook-cell:/c%3A/Users/auerth/Desktop/Study/MNIST_Digits_Benchmark/01_MNIST_SVM.ipynb#ch0000020?line=15'>16</a>\u001b[0m print_to_txt_file(\u001b[39m\"\u001b[39m\u001b[39mTuning parameters for criteria [\u001b[39m\u001b[39m%s\u001b[39;00m\u001b[39m]\u001b[39m\u001b[39m\"\u001b[39m \u001b[39m%\u001b[39m score)\n\u001b[0;32m     <a href='vscode-notebook-cell:/c%3A/Users/auerth/Desktop/Study/MNIST_Digits_Benchmark/01_MNIST_SVM.ipynb#ch0000020?line=16'>17</a>\u001b[0m grid \u001b[39m=\u001b[39m GridSearchCV(estimator\u001b[39m=\u001b[39msvm, param_grid\u001b[39m=\u001b[39mparameters, scoring\u001b[39m=\u001b[39m\u001b[39m\"\u001b[39m\u001b[39m%s\u001b[39;00m\u001b[39m_macro\u001b[39m\u001b[39m\"\u001b[39m \u001b[39m%\u001b[39m score, verbose\u001b[39m=\u001b[39m\u001b[39m3\u001b[39m)\n\u001b[1;32m---> <a href='vscode-notebook-cell:/c%3A/Users/auerth/Desktop/Study/MNIST_Digits_Benchmark/01_MNIST_SVM.ipynb#ch0000020?line=18'>19</a>\u001b[0m grid\u001b[39m.\u001b[39;49mfit(train_data, train_label)\n\u001b[0;32m     <a href='vscode-notebook-cell:/c%3A/Users/auerth/Desktop/Study/MNIST_Digits_Benchmark/01_MNIST_SVM.ipynb#ch0000020?line=20'>21</a>\u001b[0m print_to_txt_file(\u001b[39m\"\u001b[39m\u001b[39mBest parameters set found on following development set:\u001b[39m\u001b[39m\"\u001b[39m)\n\u001b[0;32m     <a href='vscode-notebook-cell:/c%3A/Users/auerth/Desktop/Study/MNIST_Digits_Benchmark/01_MNIST_SVM.ipynb#ch0000020?line=21'>22</a>\u001b[0m print_to_txt_file(\u001b[39m\"\u001b[39m\u001b[39m\\t\u001b[39;00m\u001b[39mSupport Vector: \u001b[39m\u001b[39m%s\u001b[39;00m\u001b[39m\"\u001b[39m \u001b[39m%\u001b[39m grid\u001b[39m.\u001b[39mbest_estimator_)\n",
      "File \u001b[1;32m~\\AppData\\Local\\Packages\\PythonSoftwareFoundation.Python.3.10_qbz5n2kfra8p0\\LocalCache\\local-packages\\Python310\\site-packages\\sklearn\\model_selection\\_search.py:783\u001b[0m, in \u001b[0;36mBaseSearchCV.fit\u001b[1;34m(self, X, y, groups, **fit_params)\u001b[0m\n\u001b[0;32m    780\u001b[0m     \u001b[39mself\u001b[39m\u001b[39m.\u001b[39m_check_refit_for_multimetric(scorers)\n\u001b[0;32m    781\u001b[0m     refit_metric \u001b[39m=\u001b[39m \u001b[39mself\u001b[39m\u001b[39m.\u001b[39mrefit\n\u001b[1;32m--> 783\u001b[0m X, y, groups \u001b[39m=\u001b[39m indexable(X, y, groups)\n\u001b[0;32m    784\u001b[0m fit_params \u001b[39m=\u001b[39m _check_fit_params(X, fit_params)\n\u001b[0;32m    786\u001b[0m cv_orig \u001b[39m=\u001b[39m check_cv(\u001b[39mself\u001b[39m\u001b[39m.\u001b[39mcv, y, classifier\u001b[39m=\u001b[39mis_classifier(estimator))\n",
      "File \u001b[1;32m~\\AppData\\Local\\Packages\\PythonSoftwareFoundation.Python.3.10_qbz5n2kfra8p0\\LocalCache\\local-packages\\Python310\\site-packages\\sklearn\\utils\\validation.py:433\u001b[0m, in \u001b[0;36mindexable\u001b[1;34m(*iterables)\u001b[0m\n\u001b[0;32m    414\u001b[0m \u001b[39m\"\"\"Make arrays indexable for cross-validation.\u001b[39;00m\n\u001b[0;32m    415\u001b[0m \n\u001b[0;32m    416\u001b[0m \u001b[39mChecks consistent length, passes through None, and ensures that everything\u001b[39;00m\n\u001b[1;32m   (...)\u001b[0m\n\u001b[0;32m    429\u001b[0m \u001b[39m    sparse matrix, or dataframe) or `None`.\u001b[39;00m\n\u001b[0;32m    430\u001b[0m \u001b[39m\"\"\"\u001b[39;00m\n\u001b[0;32m    432\u001b[0m result \u001b[39m=\u001b[39m [_make_indexable(X) \u001b[39mfor\u001b[39;00m X \u001b[39min\u001b[39;00m iterables]\n\u001b[1;32m--> 433\u001b[0m check_consistent_length(\u001b[39m*\u001b[39;49mresult)\n\u001b[0;32m    434\u001b[0m \u001b[39mreturn\u001b[39;00m result\n",
      "File \u001b[1;32m~\\AppData\\Local\\Packages\\PythonSoftwareFoundation.Python.3.10_qbz5n2kfra8p0\\LocalCache\\local-packages\\Python310\\site-packages\\sklearn\\utils\\validation.py:387\u001b[0m, in \u001b[0;36mcheck_consistent_length\u001b[1;34m(*arrays)\u001b[0m\n\u001b[0;32m    385\u001b[0m uniques \u001b[39m=\u001b[39m np\u001b[39m.\u001b[39munique(lengths)\n\u001b[0;32m    386\u001b[0m \u001b[39mif\u001b[39;00m \u001b[39mlen\u001b[39m(uniques) \u001b[39m>\u001b[39m \u001b[39m1\u001b[39m:\n\u001b[1;32m--> 387\u001b[0m     \u001b[39mraise\u001b[39;00m \u001b[39mValueError\u001b[39;00m(\n\u001b[0;32m    388\u001b[0m         \u001b[39m\"\u001b[39m\u001b[39mFound input variables with inconsistent numbers of samples: \u001b[39m\u001b[39m%r\u001b[39;00m\u001b[39m\"\u001b[39m\n\u001b[0;32m    389\u001b[0m         \u001b[39m%\u001b[39m [\u001b[39mint\u001b[39m(l) \u001b[39mfor\u001b[39;00m l \u001b[39min\u001b[39;00m lengths]\n\u001b[0;32m    390\u001b[0m     )\n",
      "\u001b[1;31mValueError\u001b[0m: Found input variables with inconsistent numbers of samples: [14999, 14997]"
     ]
    }
   ],
   "source": [
    "### Takes a very long time (~~ 10m)\n",
    "# Some may be commented/deactivated for acceptable execution time\n",
    "svm = SVC()\n",
    "parameters = {\n",
    "        \"kernel\":(\"linear\", \"poly\", \"rbf\"), \n",
    "        \"C\":[1,10],             # The C parameter tells the SVM optimization how much you want to avoid misclassifying each training example.\n",
    "        #\"gamma\":[1e-3, 1e-4],   # Intuitively, the gamma parameter defines how far the influence of a single training example reaches, with low values meaning ‘far’ and high values meaning ‘close’.\n",
    "}\n",
    "scores = [\n",
    "    #\"accuracy\",     # The set of labels predicted for a sample must exactly match the corresponding set of labels in y_true\n",
    "    \"precision\",    # The precision is intuitively the ability of the classifier not to label as positive a sample that is negative\n",
    "    \"recall\",       # The recall is intuitively the ability of the classifier to find all the positive samples.\n",
    "    ]\n",
    "for score in scores:\n",
    "    print_to_txt_file(\"--- [%s] Running Parameter-Tests ---\" % datetime.now())\n",
    "    print_to_txt_file(\"Tuning parameters for criteria [%s]\" % score)\n",
    "    grid = GridSearchCV(estimator=svm, param_grid=parameters, scoring=\"%s_macro\" % score, verbose=3)\n",
    "\n",
    "    grid.fit(train_data, train_label)\n",
    "\n",
    "    print_to_txt_file(\"Best parameters set found on following development set:\")\n",
    "    print_to_txt_file(\"\\tSupport Vector: %s\" % grid.best_estimator_)\n",
    "    print_to_txt_file(\"\\tSupport Vector Parametrization: %s\" % grid.best_params_)\n",
    "    print_to_txt_file(\"\\tAsserted Score: %s\" % grid.best_score_)\n",
    "    print_to_txt_file(\"Total Score \\t\\t Configurations\")\n",
    "\n",
    "    means = grid.cv_results_[\"mean_test_score\"]\n",
    "    stds = grid.cv_results_[\"std_test_score\"]\n",
    "    params = grid.cv_results_[\"params\"]\n",
    "    for mean, std, params in zip(means, stds, params):\n",
    "        print_to_txt_file(\"%0.3f (+/-%0.03f)\\t%r\" % (mean, std, params))\n",
    "        print_to_txt_file(\"\")\n",
    "    print(\"Wrote classifier comparisons to file \", txt_out_file_path)\n",
    "\n",
    "    print(\"Detailed classification report:\")\n",
    "    print(\"The model is trained on the full development set.\")\n",
    "    print(\"The scores are computed on the full evaluation set.\")\n",
    "    \n",
    "    y_true, y_pred = test_label, grid.predict(test_data)\n",
    "    print(classification_report(y_true, y_pred))\n",
    "    print()"
   ]
  }
 ],
 "metadata": {
  "kernelspec": {
   "display_name": "Python 3.10.6 64-bit (microsoft store)",
   "language": "python",
   "name": "python3"
  },
  "language_info": {
   "codemirror_mode": {
    "name": "ipython",
    "version": 3
   },
   "file_extension": ".py",
   "mimetype": "text/x-python",
   "name": "python",
   "nbconvert_exporter": "python",
   "pygments_lexer": "ipython3",
   "version": "3.10.7"
  },
  "orig_nbformat": 4,
  "vscode": {
   "interpreter": {
    "hash": "3e2b2785e650337f79381cd4c5df08c4d5dc4623a6a0d2da7e01465b331d0fcc"
   }
  }
 },
 "nbformat": 4,
 "nbformat_minor": 2
}
